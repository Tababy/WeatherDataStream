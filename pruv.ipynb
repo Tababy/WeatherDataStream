{
 "cells": [
  {
   "cell_type": "code",
   "execution_count": 1,
   "metadata": {},
   "outputs": [],
   "source": [
    "import mysql.connector  as connection\n",
    "import pandas as pd\n",
    "from datetime import datetime"
   ]
  },
  {
   "cell_type": "code",
   "execution_count": 2,
   "metadata": {},
   "outputs": [
    {
     "name": "stderr",
     "output_type": "stream",
     "text": [
      "/tmp/ipykernel_109277/294956736.py:3: UserWarning: pandas only supports SQLAlchemy connectable (engine/connection) or database string URI or sqlite3 DBAPI2 connection. Other DBAPI2 objects are not tested. Please consider using SQLAlchemy.\n",
      "  products_df = pd.read_sql(products,mydb)\n"
     ]
    }
   ],
   "source": [
    "mydb = connection.connect(host=\"localhost\", database = 'mavenfuzzyfactory',user=\"sammy\", passwd=\"password\",use_pure=True) \n",
    "products = \"Select * from products;\"\n",
    "products_df = pd.read_sql(products,mydb)"
   ]
  },
  {
   "cell_type": "code",
   "execution_count": 65,
   "metadata": {},
   "outputs": [
    {
     "name": "stderr",
     "output_type": "stream",
     "text": [
      "/tmp/ipykernel_109277/1512843305.py:4: UserWarning: pandas only supports SQLAlchemy connectable (engine/connection) or database string URI or sqlite3 DBAPI2 connection. Other DBAPI2 objects are not tested. Please consider using SQLAlchemy.\n",
      "  products_df = pd.read_sql(products,mydb)\n",
      "/tmp/ipykernel_109277/1512843305.py:7: UserWarning: pandas only supports SQLAlchemy connectable (engine/connection) or database string URI or sqlite3 DBAPI2 connection. Other DBAPI2 objects are not tested. Please consider using SQLAlchemy.\n",
      "  orders_df = pd.read_sql(orders,mydb)\n",
      "/tmp/ipykernel_109277/1512843305.py:10: UserWarning: pandas only supports SQLAlchemy connectable (engine/connection) or database string URI or sqlite3 DBAPI2 connection. Other DBAPI2 objects are not tested. Please consider using SQLAlchemy.\n",
      "  refunds_df = pd.read_sql(refunds,mydb)\n",
      "/tmp/ipykernel_109277/1512843305.py:13: UserWarning: pandas only supports SQLAlchemy connectable (engine/connection) or database string URI or sqlite3 DBAPI2 connection. Other DBAPI2 objects are not tested. Please consider using SQLAlchemy.\n",
      "  order_items_df = pd.read_sql(order_items,mydb)\n",
      "/tmp/ipykernel_109277/1512843305.py:16: UserWarning: pandas only supports SQLAlchemy connectable (engine/connection) or database string URI or sqlite3 DBAPI2 connection. Other DBAPI2 objects are not tested. Please consider using SQLAlchemy.\n",
      "  website_page_view_df = pd.read_sql(website_page_view,mydb)\n",
      "/tmp/ipykernel_109277/1512843305.py:19: UserWarning: pandas only supports SQLAlchemy connectable (engine/connection) or database string URI or sqlite3 DBAPI2 connection. Other DBAPI2 objects are not tested. Please consider using SQLAlchemy.\n",
      "  website_page_session_df = pd.read_sql(website_page_session,mydb)\n"
     ]
    }
   ],
   "source": [
    "\n",
    "mydb = connection.connect(host=\"localhost\", database = 'mavenfuzzyfactory',user=\"sammy\", passwd=\"password\",use_pure=True) \n",
    "\n",
    "products = \"Select * from products;\"\n",
    "products_df = pd.read_sql(products,mydb)\n",
    "\n",
    "orders = \"Select * from orders;\"\n",
    "orders_df = pd.read_sql(orders,mydb)\n",
    "\n",
    "refunds = \"Select * from order_item_refunds;\"\n",
    "refunds_df = pd.read_sql(refunds,mydb)\n",
    "\n",
    "order_items = \"Select * from order_items;\"\n",
    "order_items_df = pd.read_sql(order_items,mydb)\n",
    "\n",
    "website_page_view = \"Select * from products;\"\n",
    "website_page_view_df = pd.read_sql(website_page_view,mydb)\n",
    "\n",
    "website_page_session= \"Select * from products;\"\n",
    "website_page_session_df = pd.read_sql(website_page_session,mydb)"
   ]
  },
  {
   "attachments": {},
   "cell_type": "markdown",
   "metadata": {},
   "source": [
    "# 1"
   ]
  },
  {
   "cell_type": "code",
   "execution_count": 66,
   "metadata": {},
   "outputs": [
    {
     "data": {
      "text/html": [
       "<div>\n",
       "<style scoped>\n",
       "    .dataframe tbody tr th:only-of-type {\n",
       "        vertical-align: middle;\n",
       "    }\n",
       "\n",
       "    .dataframe tbody tr th {\n",
       "        vertical-align: top;\n",
       "    }\n",
       "\n",
       "    .dataframe thead th {\n",
       "        text-align: right;\n",
       "    }\n",
       "</style>\n",
       "<table border=\"1\" class=\"dataframe\">\n",
       "  <thead>\n",
       "    <tr style=\"text-align: right;\">\n",
       "      <th></th>\n",
       "      <th>product_id</th>\n",
       "      <th>created_at</th>\n",
       "      <th>product_name</th>\n",
       "    </tr>\n",
       "  </thead>\n",
       "  <tbody>\n",
       "    <tr>\n",
       "      <th>0</th>\n",
       "      <td>1</td>\n",
       "      <td>2012-03-19 08:00:00</td>\n",
       "      <td>The Original Mr. Fuzzy</td>\n",
       "    </tr>\n",
       "    <tr>\n",
       "      <th>1</th>\n",
       "      <td>2</td>\n",
       "      <td>2013-01-06 13:00:00</td>\n",
       "      <td>The Forever Love Bear</td>\n",
       "    </tr>\n",
       "    <tr>\n",
       "      <th>2</th>\n",
       "      <td>3</td>\n",
       "      <td>2013-12-12 09:00:00</td>\n",
       "      <td>The Birthday Sugar Panda</td>\n",
       "    </tr>\n",
       "    <tr>\n",
       "      <th>3</th>\n",
       "      <td>4</td>\n",
       "      <td>2014-02-05 10:00:00</td>\n",
       "      <td>The Hudson River Mini bear</td>\n",
       "    </tr>\n",
       "  </tbody>\n",
       "</table>\n",
       "</div>"
      ],
      "text/plain": [
       "   product_id          created_at                product_name\n",
       "0           1 2012-03-19 08:00:00      The Original Mr. Fuzzy\n",
       "1           2 2013-01-06 13:00:00       The Forever Love Bear\n",
       "2           3 2013-12-12 09:00:00    The Birthday Sugar Panda\n",
       "3           4 2014-02-05 10:00:00  The Hudson River Mini bear"
      ]
     },
     "execution_count": 66,
     "metadata": {},
     "output_type": "execute_result"
    }
   ],
   "source": [
    "products_df.head()"
   ]
  },
  {
   "cell_type": "code",
   "execution_count": 67,
   "metadata": {},
   "outputs": [
    {
     "data": {
      "text/html": [
       "<div>\n",
       "<style scoped>\n",
       "    .dataframe tbody tr th:only-of-type {\n",
       "        vertical-align: middle;\n",
       "    }\n",
       "\n",
       "    .dataframe tbody tr th {\n",
       "        vertical-align: top;\n",
       "    }\n",
       "\n",
       "    .dataframe thead th {\n",
       "        text-align: right;\n",
       "    }\n",
       "</style>\n",
       "<table border=\"1\" class=\"dataframe\">\n",
       "  <thead>\n",
       "    <tr style=\"text-align: right;\">\n",
       "      <th></th>\n",
       "      <th>order_id</th>\n",
       "      <th>created_at</th>\n",
       "      <th>website_session_id</th>\n",
       "      <th>user_id</th>\n",
       "      <th>primary_product_id</th>\n",
       "      <th>items_purchased</th>\n",
       "      <th>price_usd</th>\n",
       "      <th>cogs_usd</th>\n",
       "    </tr>\n",
       "  </thead>\n",
       "  <tbody>\n",
       "    <tr>\n",
       "      <th>0</th>\n",
       "      <td>1</td>\n",
       "      <td>2012-03-19 10:42:46</td>\n",
       "      <td>20</td>\n",
       "      <td>20</td>\n",
       "      <td>1</td>\n",
       "      <td>1</td>\n",
       "      <td>49.99</td>\n",
       "      <td>19.49</td>\n",
       "    </tr>\n",
       "    <tr>\n",
       "      <th>1</th>\n",
       "      <td>2</td>\n",
       "      <td>2012-03-19 19:27:37</td>\n",
       "      <td>104</td>\n",
       "      <td>104</td>\n",
       "      <td>1</td>\n",
       "      <td>1</td>\n",
       "      <td>49.99</td>\n",
       "      <td>19.49</td>\n",
       "    </tr>\n",
       "    <tr>\n",
       "      <th>2</th>\n",
       "      <td>3</td>\n",
       "      <td>2012-03-20 06:44:45</td>\n",
       "      <td>147</td>\n",
       "      <td>147</td>\n",
       "      <td>1</td>\n",
       "      <td>1</td>\n",
       "      <td>49.99</td>\n",
       "      <td>19.49</td>\n",
       "    </tr>\n",
       "    <tr>\n",
       "      <th>3</th>\n",
       "      <td>4</td>\n",
       "      <td>2012-03-20 09:41:45</td>\n",
       "      <td>160</td>\n",
       "      <td>160</td>\n",
       "      <td>1</td>\n",
       "      <td>1</td>\n",
       "      <td>49.99</td>\n",
       "      <td>19.49</td>\n",
       "    </tr>\n",
       "    <tr>\n",
       "      <th>4</th>\n",
       "      <td>5</td>\n",
       "      <td>2012-03-20 11:28:15</td>\n",
       "      <td>177</td>\n",
       "      <td>177</td>\n",
       "      <td>1</td>\n",
       "      <td>1</td>\n",
       "      <td>49.99</td>\n",
       "      <td>19.49</td>\n",
       "    </tr>\n",
       "  </tbody>\n",
       "</table>\n",
       "</div>"
      ],
      "text/plain": [
       "   order_id          created_at  website_session_id  user_id  \\\n",
       "0         1 2012-03-19 10:42:46                  20       20   \n",
       "1         2 2012-03-19 19:27:37                 104      104   \n",
       "2         3 2012-03-20 06:44:45                 147      147   \n",
       "3         4 2012-03-20 09:41:45                 160      160   \n",
       "4         5 2012-03-20 11:28:15                 177      177   \n",
       "\n",
       "   primary_product_id  items_purchased  price_usd  cogs_usd  \n",
       "0                   1                1      49.99     19.49  \n",
       "1                   1                1      49.99     19.49  \n",
       "2                   1                1      49.99     19.49  \n",
       "3                   1                1      49.99     19.49  \n",
       "4                   1                1      49.99     19.49  "
      ]
     },
     "execution_count": 67,
     "metadata": {},
     "output_type": "execute_result"
    }
   ],
   "source": [
    "orders_df.head()"
   ]
  },
  {
   "cell_type": "code",
   "execution_count": 68,
   "metadata": {},
   "outputs": [
    {
     "data": {
      "text/html": [
       "<div>\n",
       "<style scoped>\n",
       "    .dataframe tbody tr th:only-of-type {\n",
       "        vertical-align: middle;\n",
       "    }\n",
       "\n",
       "    .dataframe tbody tr th {\n",
       "        vertical-align: top;\n",
       "    }\n",
       "\n",
       "    .dataframe thead th {\n",
       "        text-align: right;\n",
       "    }\n",
       "</style>\n",
       "<table border=\"1\" class=\"dataframe\">\n",
       "  <thead>\n",
       "    <tr style=\"text-align: right;\">\n",
       "      <th></th>\n",
       "      <th>order_item_refund_id</th>\n",
       "      <th>created_at</th>\n",
       "      <th>order_item_id</th>\n",
       "      <th>order_id</th>\n",
       "      <th>refund_amount_usd</th>\n",
       "    </tr>\n",
       "  </thead>\n",
       "  <tbody>\n",
       "    <tr>\n",
       "      <th>0</th>\n",
       "      <td>1</td>\n",
       "      <td>2012-04-06 11:32:43</td>\n",
       "      <td>57</td>\n",
       "      <td>57</td>\n",
       "      <td>49.99</td>\n",
       "    </tr>\n",
       "    <tr>\n",
       "      <th>1</th>\n",
       "      <td>2</td>\n",
       "      <td>2012-04-13 01:09:43</td>\n",
       "      <td>74</td>\n",
       "      <td>74</td>\n",
       "      <td>49.99</td>\n",
       "    </tr>\n",
       "    <tr>\n",
       "      <th>2</th>\n",
       "      <td>3</td>\n",
       "      <td>2012-04-15 07:03:48</td>\n",
       "      <td>71</td>\n",
       "      <td>71</td>\n",
       "      <td>49.99</td>\n",
       "    </tr>\n",
       "    <tr>\n",
       "      <th>3</th>\n",
       "      <td>4</td>\n",
       "      <td>2012-04-17 20:00:37</td>\n",
       "      <td>118</td>\n",
       "      <td>118</td>\n",
       "      <td>49.99</td>\n",
       "    </tr>\n",
       "    <tr>\n",
       "      <th>4</th>\n",
       "      <td>5</td>\n",
       "      <td>2012-04-22 20:53:49</td>\n",
       "      <td>116</td>\n",
       "      <td>116</td>\n",
       "      <td>49.99</td>\n",
       "    </tr>\n",
       "  </tbody>\n",
       "</table>\n",
       "</div>"
      ],
      "text/plain": [
       "   order_item_refund_id          created_at  order_item_id  order_id  \\\n",
       "0                     1 2012-04-06 11:32:43             57        57   \n",
       "1                     2 2012-04-13 01:09:43             74        74   \n",
       "2                     3 2012-04-15 07:03:48             71        71   \n",
       "3                     4 2012-04-17 20:00:37            118       118   \n",
       "4                     5 2012-04-22 20:53:49            116       116   \n",
       "\n",
       "   refund_amount_usd  \n",
       "0              49.99  \n",
       "1              49.99  \n",
       "2              49.99  \n",
       "3              49.99  \n",
       "4              49.99  "
      ]
     },
     "execution_count": 68,
     "metadata": {},
     "output_type": "execute_result"
    }
   ],
   "source": [
    "refunds_df.head()"
   ]
  },
  {
   "cell_type": "code",
   "execution_count": 69,
   "metadata": {},
   "outputs": [
    {
     "data": {
      "text/html": [
       "<div>\n",
       "<style scoped>\n",
       "    .dataframe tbody tr th:only-of-type {\n",
       "        vertical-align: middle;\n",
       "    }\n",
       "\n",
       "    .dataframe tbody tr th {\n",
       "        vertical-align: top;\n",
       "    }\n",
       "\n",
       "    .dataframe thead th {\n",
       "        text-align: right;\n",
       "    }\n",
       "</style>\n",
       "<table border=\"1\" class=\"dataframe\">\n",
       "  <thead>\n",
       "    <tr style=\"text-align: right;\">\n",
       "      <th></th>\n",
       "      <th>order_item_id</th>\n",
       "      <th>created_at</th>\n",
       "      <th>order_id</th>\n",
       "      <th>product_id</th>\n",
       "      <th>is_primary_item</th>\n",
       "      <th>price_usd</th>\n",
       "      <th>cogs_usd</th>\n",
       "    </tr>\n",
       "  </thead>\n",
       "  <tbody>\n",
       "    <tr>\n",
       "      <th>0</th>\n",
       "      <td>1</td>\n",
       "      <td>2012-03-19 10:42:46</td>\n",
       "      <td>1</td>\n",
       "      <td>1</td>\n",
       "      <td>1</td>\n",
       "      <td>49.99</td>\n",
       "      <td>19.49</td>\n",
       "    </tr>\n",
       "    <tr>\n",
       "      <th>1</th>\n",
       "      <td>2</td>\n",
       "      <td>2012-03-19 19:27:37</td>\n",
       "      <td>2</td>\n",
       "      <td>1</td>\n",
       "      <td>1</td>\n",
       "      <td>49.99</td>\n",
       "      <td>19.49</td>\n",
       "    </tr>\n",
       "    <tr>\n",
       "      <th>2</th>\n",
       "      <td>3</td>\n",
       "      <td>2012-03-20 06:44:45</td>\n",
       "      <td>3</td>\n",
       "      <td>1</td>\n",
       "      <td>1</td>\n",
       "      <td>49.99</td>\n",
       "      <td>19.49</td>\n",
       "    </tr>\n",
       "    <tr>\n",
       "      <th>3</th>\n",
       "      <td>4</td>\n",
       "      <td>2012-03-20 09:41:45</td>\n",
       "      <td>4</td>\n",
       "      <td>1</td>\n",
       "      <td>1</td>\n",
       "      <td>49.99</td>\n",
       "      <td>19.49</td>\n",
       "    </tr>\n",
       "    <tr>\n",
       "      <th>4</th>\n",
       "      <td>5</td>\n",
       "      <td>2012-03-20 11:28:15</td>\n",
       "      <td>5</td>\n",
       "      <td>1</td>\n",
       "      <td>1</td>\n",
       "      <td>49.99</td>\n",
       "      <td>19.49</td>\n",
       "    </tr>\n",
       "  </tbody>\n",
       "</table>\n",
       "</div>"
      ],
      "text/plain": [
       "   order_item_id          created_at  order_id  product_id  is_primary_item  \\\n",
       "0              1 2012-03-19 10:42:46         1           1                1   \n",
       "1              2 2012-03-19 19:27:37         2           1                1   \n",
       "2              3 2012-03-20 06:44:45         3           1                1   \n",
       "3              4 2012-03-20 09:41:45         4           1                1   \n",
       "4              5 2012-03-20 11:28:15         5           1                1   \n",
       "\n",
       "   price_usd  cogs_usd  \n",
       "0      49.99     19.49  \n",
       "1      49.99     19.49  \n",
       "2      49.99     19.49  \n",
       "3      49.99     19.49  \n",
       "4      49.99     19.49  "
      ]
     },
     "execution_count": 69,
     "metadata": {},
     "output_type": "execute_result"
    }
   ],
   "source": [
    "order_items_df.head()"
   ]
  },
  {
   "cell_type": "code",
   "execution_count": 70,
   "metadata": {},
   "outputs": [
    {
     "name": "stdout",
     "output_type": "stream",
     "text": [
      "<class 'pandas.core.frame.DataFrame'>\n",
      "RangeIndex: 32313 entries, 0 to 32312\n",
      "Data columns (total 8 columns):\n",
      " #   Column              Non-Null Count  Dtype         \n",
      "---  ------              --------------  -----         \n",
      " 0   order_id            32313 non-null  int64         \n",
      " 1   created_at          32313 non-null  datetime64[ns]\n",
      " 2   website_session_id  32313 non-null  int64         \n",
      " 3   user_id             32313 non-null  int64         \n",
      " 4   primary_product_id  32313 non-null  int64         \n",
      " 5   items_purchased     32313 non-null  int64         \n",
      " 6   price_usd           32313 non-null  float64       \n",
      " 7   cogs_usd            32313 non-null  float64       \n",
      "dtypes: datetime64[ns](1), float64(2), int64(5)\n",
      "memory usage: 2.0 MB\n"
     ]
    }
   ],
   "source": [
    "orders_df.info()"
   ]
  },
  {
   "attachments": {},
   "cell_type": "markdown",
   "metadata": {},
   "source": [
    "# 1"
   ]
  },
  {
   "cell_type": "code",
   "execution_count": 23,
   "metadata": {},
   "outputs": [
    {
     "name": "stderr",
     "output_type": "stream",
     "text": [
      "/tmp/ipykernel_109277/2113556688.py:1: UserWarning: Boolean Series key will be reindexed to match DataFrame index.\n",
      "  orders_df[orders_df['created_at']>=datetime(2012,9,21)][orders_df['created_at']<datetime(2012,9,22)]['price_usd'].sum()\n"
     ]
    },
    {
     "data": {
      "text/plain": [
       "549.89"
      ]
     },
     "execution_count": 23,
     "metadata": {},
     "output_type": "execute_result"
    }
   ],
   "source": [
    "orders_df[orders_df['created_at']>=datetime(2012,9,21)][orders_df['created_at']<datetime(2012,9,22)]['price_usd'].sum()"
   ]
  },
  {
   "attachments": {},
   "cell_type": "markdown",
   "metadata": {},
   "source": [
    "# 2"
   ]
  },
  {
   "cell_type": "code",
   "execution_count": 106,
   "metadata": {},
   "outputs": [
    {
     "name": "stderr",
     "output_type": "stream",
     "text": [
      "/tmp/ipykernel_109277/193261157.py:3: UserWarning: Boolean Series key will be reindexed to match DataFrame index.\n",
      "  merged_1[merged_1['created_at']>=datetime(2013,3,1)][merged_1['created_at']<datetime(2013,4,1)].value_counts('product_name').sort_values(ascending=False).index[0]#.groupby('product_name').count()\n"
     ]
    },
    {
     "data": {
      "text/plain": [
       "'The Original Mr. Fuzzy'"
      ]
     },
     "execution_count": 106,
     "metadata": {},
     "output_type": "execute_result"
    }
   ],
   "source": [
    "merged_1 = pd.merge(order_items_df , products_copy , how='left', on='product_id')\n",
    "merged_1[merged_1['created_at']>=datetime(2013,3,1)][merged_1['created_at']<datetime(2013,4,1)].value_counts('product_name').sort_values(ascending=False).index[0]#.groupby('product_name').count()"
   ]
  },
  {
   "attachments": {},
   "cell_type": "markdown",
   "metadata": {},
   "source": [
    "# 3"
   ]
  },
  {
   "cell_type": "code",
   "execution_count": 123,
   "metadata": {},
   "outputs": [
    {
     "data": {
      "text/plain": [
       "7644"
      ]
     },
     "execution_count": 123,
     "metadata": {},
     "output_type": "execute_result"
    }
   ],
   "source": [
    "orders_df[orders_df['items_purchased']==2].groupby('user_id').count().shape[0]"
   ]
  },
  {
   "attachments": {},
   "cell_type": "markdown",
   "metadata": {},
   "source": [
    "# 4\n",
    "4. total amount of money refunded in may 2012\n"
   ]
  },
  {
   "cell_type": "code",
   "execution_count": 161,
   "metadata": {},
   "outputs": [
    {
     "name": "stderr",
     "output_type": "stream",
     "text": [
      "/tmp/ipykernel_109277/322907094.py:1: UserWarning: Boolean Series key will be reindexed to match DataFrame index.\n",
      "  refunds_df[refunds_df['created_at']>=datetime(2012,5,1)][refunds_df['created_at']<datetime(2012,6,1)]['refund_amount_usd'].sum()\n"
     ]
    },
    {
     "data": {
      "text/plain": [
       "249.95000000000002"
      ]
     },
     "execution_count": 161,
     "metadata": {},
     "output_type": "execute_result"
    }
   ],
   "source": [
    "refunds_df[refunds_df['created_at']>=datetime(2012,5,1)][refunds_df['created_at']<datetime(2012,6,1)]['refund_amount_usd'].sum()"
   ]
  },
  {
   "attachments": {},
   "cell_type": "markdown",
   "metadata": {},
   "source": [
    "# 5"
   ]
  },
  {
   "cell_type": "code",
   "execution_count": 162,
   "metadata": {},
   "outputs": [
    {
     "data": {
      "text/plain": [
       "The Original Mr. Fuzzy        1237\n",
       "The Birthday Sugar Panda       301\n",
       "The Forever Love Bear          129\n",
       "The Hudson River Mini bear      64\n",
       "Name: product_name, dtype: int64"
      ]
     },
     "execution_count": 162,
     "metadata": {},
     "output_type": "execute_result"
    }
   ],
   "source": [
    "merged_4 = pd.merge(refunds_df , order_items_df , how='left', on='order_item_id')\n",
    "merded_4_2 = pd.merge(merged_4 , products_df , how = 'inner' , on='product_id')\n",
    "merded_4_2['product_name'].value_counts().sort_values( ascending=False)#.index[0]"
   ]
  },
  {
   "cell_type": "code",
   "execution_count": null,
   "metadata": {},
   "outputs": [],
   "source": []
  }
 ],
 "metadata": {
  "kernelspec": {
   "display_name": "Python 3",
   "language": "python",
   "name": "python3"
  },
  "language_info": {
   "codemirror_mode": {
    "name": "ipython",
    "version": 3
   },
   "file_extension": ".py",
   "mimetype": "text/x-python",
   "name": "python",
   "nbconvert_exporter": "python",
   "pygments_lexer": "ipython3",
   "version": "3.8.10 (default, Nov 14 2022, 12:59:47) \n[GCC 9.4.0]"
  },
  "orig_nbformat": 4,
  "vscode": {
   "interpreter": {
    "hash": "31f2aee4e71d21fbe5cf8b01ff0e069b9275f58929596ceb00d14d90e3e16cd6"
   }
  }
 },
 "nbformat": 4,
 "nbformat_minor": 2
}
