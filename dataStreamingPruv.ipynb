{
 "cells": [
  {
   "cell_type": "code",
   "execution_count": 48,
   "metadata": {},
   "outputs": [],
   "source": [
    "import requests\n",
    "from time import sleep\n",
    "import json\n",
    "from datetime import datetime\n",
    "import pandas as pd\n",
    "import os"
   ]
  },
  {
   "cell_type": "code",
   "execution_count": 51,
   "metadata": {},
   "outputs": [],
   "source": [
    "all_cities_df=pd.read_csv('/home/vboxuser/Documents/030223/zone_city.csv')\n",
    "all_cities_df.drop(55,inplace=True)\n",
    "all_cities_df.reset_index(inplace=True,drop=True)"
   ]
  },
  {
   "cell_type": "code",
   "execution_count": 58,
   "metadata": {},
   "outputs": [
    {
     "data": {
      "text/html": [
       "<div>\n",
       "<style scoped>\n",
       "    .dataframe tbody tr th:only-of-type {\n",
       "        vertical-align: middle;\n",
       "    }\n",
       "\n",
       "    .dataframe tbody tr th {\n",
       "        vertical-align: top;\n",
       "    }\n",
       "\n",
       "    .dataframe thead th {\n",
       "        text-align: right;\n",
       "    }\n",
       "</style>\n",
       "<table border=\"1\" class=\"dataframe\">\n",
       "  <thead>\n",
       "    <tr style=\"text-align: right;\">\n",
       "      <th></th>\n",
       "      <th>zone</th>\n",
       "      <th>city</th>\n",
       "    </tr>\n",
       "  </thead>\n",
       "  <tbody>\n",
       "  </tbody>\n",
       "</table>\n",
       "</div>"
      ],
      "text/plain": [
       "Empty DataFrame\n",
       "Columns: [zone, city]\n",
       "Index: []"
      ]
     },
     "execution_count": 58,
     "metadata": {},
     "output_type": "execute_result"
    }
   ],
   "source": [
    "all_cities_df[all_cities_df['city']=='Barakī Barak']"
   ]
  },
  {
   "cell_type": "code",
   "execution_count": 55,
   "metadata": {},
   "outputs": [
    {
     "data": {
      "text/plain": [
       "57"
      ]
     },
     "execution_count": 55,
     "metadata": {},
     "output_type": "execute_result"
    }
   ],
   "source": [
    "all_cities_df[all_cities_df['city']=='Gardēz']\n",
    "index = list(all_cities_df[all_cities_df['city']=='Barakī Barak'].index\n",
    ")[0]\n",
    "all_cities_df.drop(index,inplace=True)\n",
    "all_cities_df.reset_index(inplace=True,drop=True)\n",
    "cities = list(all_cities_df['city'])\n",
    "\n"
   ]
  },
  {
   "cell_type": "code",
   "execution_count": 41,
   "metadata": {},
   "outputs": [],
   "source": [
    "dict = {}\n",
    "dict_df = {}\n",
    "for i in range(all_cities_df.shape[0]):\n",
    "    dict[all_cities_df['city'][i]] =  {'temp':[] , 'min_temp':[] , 'max_temp' : [] , 'pressure' : [] , 'humidity' : [] , 'wind_speed' : [] , 'weather' : [] , 'sunrise' : [] , 'sunset' : []}\n",
    "\n",
    "for i in range(all_cities_df.shape[0]):\n",
    "    dict_df[all_cities_df['city'][i]] =  pd.DataFrame(columns=['Datetime', 'temp' , 'min_temp' , 'max_temp' , 'pressure' , 'humidity' , 'wind_speed' , 'weather' , 'sunrise','sunset'])\n"
   ]
  },
  {
   "cell_type": "code",
   "execution_count": 59,
   "metadata": {},
   "outputs": [
    {
     "data": {
      "text/plain": [
       "\"dict={'Varadero' : {'temp':[] , 'min_temp':[] , 'max_temp' : [] , 'pressure' : [] , 'humidity' : [] , 'wind_speed' : [] , 'weather' : [] , 'sunrise' : [] , 'sunset' : []} ,    'Ibiza`':{'temp':[] , 'min_temp':[] , 'max_temp' : [] , 'pressure' : [] , 'humidity' : [] , 'wind_speed' : [] , 'weather' : [] , 'sunrise' : [] , 'sunset' : []} ,\\n    'Exmouth':{'temp':[] , 'min_temp':[] , 'max_temp' : [] , 'pressure' : [] , 'humidity' : [] , 'wind_speed' : [] , 'weather' : [] , 'sunrise' : [] , 'sunset' : []}, \\n    'Hawaii':{'temp':[] , 'min_temp':[] , 'max_temp' : [] , 'pressure' : [] , 'humidity' : [] , 'wind_speed' : [] , 'weather' : [] , 'sunrise' : [] , 'sunset' : []},\\n    'Sao Paulo':{'temp':[] , 'min_temp':[] , 'max_temp' : [] , 'pressure' : [] , 'humidity' : [] , 'wind_speed' : [] , 'weather' : [] , 'sunrise' : [] , 'sunset' : []},\\n    'Aruba':{'temp':[] , 'min_temp':[] , 'max_temp' : [] , 'pressure' : [] , 'humidity' : [] , 'wind_speed' : [] , 'weather' : [] , 'sunrise' : [] , 'sunset' : []}, \\n    'Havelock':{'temp':[] , 'min_temp':[] , 'max_temp' : [] , 'pressure' : [] , 'humidity' : [] , 'wind_speed' : [] , 'weather' : [] , 'sunrise' : [] , 'sunset' : []}, \\n    'Lampedusa':{'temp':[] , 'min_temp':[] , 'max_temp' : [] , 'pressure' : [] , 'humidity' : [] , 'wind_speed' : [] , 'weather' : [] , 'sunrise' : [] , 'sunset' : []} , \\n    'Cancun':{'temp':[] , 'min_temp':[] , 'max_temp' : [] , 'pressure' : [] , 'humidity' : [] , 'wind_speed' : [] , 'weather' : [] , 'sunrise' : [] , 'sunset' : []} , \\n    'Cozumel':{'temp':[] , 'min_temp':[] , 'max_temp' : [] , 'pressure' : [] , 'humidity' : [] , 'wind_speed' : [] , 'weather' : [] , 'sunrise' : [] , 'sunset' : []} , \\n    'Playa del Carmen':{'temp':[] , 'min_temp':[] , 'max_temp' : [] , 'pressure' : [] , 'humidity' : [] , 'wind_speed' : [] , 'weather' : [] , 'sunrise' : [] , 'sunset' : []} , \\n    'Puerto Escondido':{'temp':[] , 'min_temp':[] , 'max_temp' : [] , 'pressure' : [] , 'humidity' : [] , 'wind_speed' : [] , 'weather' : [] , 'sunrise' : [] , 'sunset' : []} , \\n    'Acapulco':{'temp':[] , 'min_temp':[] , 'max_temp' : [] , 'pressure' : [] , 'humidity' : [] , 'wind_speed' : [] , 'weather' : [] , 'sunrise' : [] , 'sunset' : []} , \\n    'Tulum':{'temp':[] , 'min_temp':[] , 'max_temp' : [] , 'pressure' : [] , 'humidity' : [] , 'wind_speed' : [] , 'weather' : [] , 'sunrise' : [] , 'sunset' : []} , \\n    'Los Cabos':{'temp':[] , 'min_temp':[] , 'max_temp' : [] , 'pressure' : [] , 'humidity' : [] , 'wind_speed' : [] , 'weather' : [] , 'sunrise' : [] , 'sunset' : []}  \\n    }\""
      ]
     },
     "execution_count": 59,
     "metadata": {},
     "output_type": "execute_result"
    }
   ],
   "source": [
    "cities = list(all_cities_df['city'])\n",
    "'''dict={'Varadero' : {'temp':[] , 'min_temp':[] , 'max_temp' : [] , 'pressure' : [] , 'humidity' : [] , 'wind_speed' : [] , 'weather' : [] , 'sunrise' : [] , 'sunset' : []} ,\\\n",
    "    'Ibiza`':{'temp':[] , 'min_temp':[] , 'max_temp' : [] , 'pressure' : [] , 'humidity' : [] , 'wind_speed' : [] , 'weather' : [] , 'sunrise' : [] , 'sunset' : []} ,\n",
    "    'Exmouth':{'temp':[] , 'min_temp':[] , 'max_temp' : [] , 'pressure' : [] , 'humidity' : [] , 'wind_speed' : [] , 'weather' : [] , 'sunrise' : [] , 'sunset' : []}, \n",
    "    'Hawaii':{'temp':[] , 'min_temp':[] , 'max_temp' : [] , 'pressure' : [] , 'humidity' : [] , 'wind_speed' : [] , 'weather' : [] , 'sunrise' : [] , 'sunset' : []},\n",
    "    'Sao Paulo':{'temp':[] , 'min_temp':[] , 'max_temp' : [] , 'pressure' : [] , 'humidity' : [] , 'wind_speed' : [] , 'weather' : [] , 'sunrise' : [] , 'sunset' : []},\n",
    "    'Aruba':{'temp':[] , 'min_temp':[] , 'max_temp' : [] , 'pressure' : [] , 'humidity' : [] , 'wind_speed' : [] , 'weather' : [] , 'sunrise' : [] , 'sunset' : []}, \n",
    "    'Havelock':{'temp':[] , 'min_temp':[] , 'max_temp' : [] , 'pressure' : [] , 'humidity' : [] , 'wind_speed' : [] , 'weather' : [] , 'sunrise' : [] , 'sunset' : []}, \n",
    "    'Lampedusa':{'temp':[] , 'min_temp':[] , 'max_temp' : [] , 'pressure' : [] , 'humidity' : [] , 'wind_speed' : [] , 'weather' : [] , 'sunrise' : [] , 'sunset' : []} , \n",
    "    'Cancun':{'temp':[] , 'min_temp':[] , 'max_temp' : [] , 'pressure' : [] , 'humidity' : [] , 'wind_speed' : [] , 'weather' : [] , 'sunrise' : [] , 'sunset' : []} , \n",
    "    'Cozumel':{'temp':[] , 'min_temp':[] , 'max_temp' : [] , 'pressure' : [] , 'humidity' : [] , 'wind_speed' : [] , 'weather' : [] , 'sunrise' : [] , 'sunset' : []} , \n",
    "    'Playa del Carmen':{'temp':[] , 'min_temp':[] , 'max_temp' : [] , 'pressure' : [] , 'humidity' : [] , 'wind_speed' : [] , 'weather' : [] , 'sunrise' : [] , 'sunset' : []} , \n",
    "    'Puerto Escondido':{'temp':[] , 'min_temp':[] , 'max_temp' : [] , 'pressure' : [] , 'humidity' : [] , 'wind_speed' : [] , 'weather' : [] , 'sunrise' : [] , 'sunset' : []} , \n",
    "    'Acapulco':{'temp':[] , 'min_temp':[] , 'max_temp' : [] , 'pressure' : [] , 'humidity' : [] , 'wind_speed' : [] , 'weather' : [] , 'sunrise' : [] , 'sunset' : []} , \n",
    "    'Tulum':{'temp':[] , 'min_temp':[] , 'max_temp' : [] , 'pressure' : [] , 'humidity' : [] , 'wind_speed' : [] , 'weather' : [] , 'sunrise' : [] , 'sunset' : []} , \n",
    "    'Los Cabos':{'temp':[] , 'min_temp':[] , 'max_temp' : [] , 'pressure' : [] , 'humidity' : [] , 'wind_speed' : [] , 'weather' : [] , 'sunrise' : [] , 'sunset' : []}  \n",
    "    }'''\n",
    "\n"
   ]
  },
  {
   "cell_type": "code",
   "execution_count": 156,
   "metadata": {},
   "outputs": [],
   "source": [
    "for items in cities:\n",
    "    \n",
    "    try:\n",
    "        os.mkdir(f'/home/vboxuser/Documents/030223/data_stream/{items}')\n",
    "    \n",
    "    except FileExistsError :\n",
    "        pass\n",
    "    except FileNotFoundError:\n",
    "        pass"
   ]
  },
  {
   "cell_type": "code",
   "execution_count": 44,
   "metadata": {},
   "outputs": [
    {
     "data": {
      "text/plain": [
       "\"dict_df ={'Varadero' : pd.DataFrame(columns=['Datetime', 'temp' , 'min_temp' , 'max_temp' , 'pressure' , 'humidity' , 'wind_speed' , 'weather' , 'sunrise','sunset']),    'Ibiza':pd.DataFrame(columns=['Datetime', 'temp' , 'min_temp' , 'max_temp' , 'pressure' , 'humidity' , 'wind_speed' , 'weather' , 'sunrise','sunset']),\\n    'Exmouth':pd.DataFrame(columns=['Datetime', 'temp' , 'min_temp' , 'max_temp' , 'pressure' , 'humidity' , 'wind_speed' , 'weather' , 'sunrise','sunset']), \\n    'Hawaii':pd.DataFrame(columns=['Datetime', 'temp' , 'min_temp' , 'max_temp' , 'pressure' , 'humidity' , 'wind_speed' , 'weather' , 'sunrise','sunset']),\\n    'Sao Paulo':pd.DataFrame(columns=['Datetime', 'temp' , 'min_temp' , 'max_temp' , 'pressure' , 'humidity' , 'wind_speed' , 'weather' , 'sunrise','sunset']),\\n    'Aruba':pd.DataFrame(columns=['Datetime', 'temp' , 'min_temp' , 'max_temp' , 'pressure' , 'humidity' , 'wind_speed' , 'weather' , 'sunrise','sunset']), \\n    'Havelock':pd.DataFrame(columns=['Datetime', 'temp' , 'min_temp' , 'max_temp' , 'pressure' , 'humidity' , 'wind_speed' , 'weather' , 'sunrise','sunset']), \\n    'Lampedusa':pd.DataFrame(columns=['Datetime', 'temp' , 'min_temp' , 'max_temp' , 'pressure' , 'humidity' , 'wind_speed' , 'weather' , 'sunrise','sunset']) , \\n    'Cancun':pd.DataFrame(columns=['Datetime', 'temp' , 'min_temp' , 'max_temp' , 'pressure' , 'humidity' , 'wind_speed' , 'weather' , 'sunrise','sunset']) , \\n    'Cozumel':pd.DataFrame(columns=['Datetime', 'temp' , 'min_temp' , 'max_temp' , 'pressure' , 'humidity' , 'wind_speed' , 'weather' , 'sunrise','sunset']) , \\n    'Playa del Carmen':pd.DataFrame(columns=['Datetime', 'temp' , 'min_temp' , 'max_temp' , 'pressure' , 'humidity' , 'wind_speed' , 'weather' , 'sunrise','sunset']) , \\n    'Puerto Escondido':pd.DataFrame(columns=['Datetime', 'temp' , 'min_temp' , 'max_temp' , 'pressure' , 'humidity' , 'wind_speed' , 'weather' , 'sunrise','sunset']) , \\n    'Acapulco':pd.DataFrame(columns=['Datetime', 'temp' , 'min_temp' , 'max_temp' , 'pressure' , 'humidity' , 'wind_speed' , 'weather' , 'sunrise','sunset']) , \\n    'Tulum':pd.DataFrame(columns=['Datetime', 'temp' , 'min_temp' , 'max_temp' , 'pressure' , 'humidity' , 'wind_speed' , 'weather' , 'sunrise','sunset']) , \\n    'Los Cabos':pd.DataFrame(columns=['Datetime', 'temp' , 'min_temp' , 'max_temp' , 'pressure' , 'humidity' , 'wind_speed' , 'weather' , 'sunrise','sunset'])  \\n    }\""
      ]
     },
     "execution_count": 44,
     "metadata": {},
     "output_type": "execute_result"
    }
   ],
   "source": [
    "'''dict_df ={'Varadero' : pd.DataFrame(columns=['Datetime', 'temp' , 'min_temp' , 'max_temp' , 'pressure' , 'humidity' , 'wind_speed' , 'weather' , 'sunrise','sunset']),\\\n",
    "    'Ibiza':pd.DataFrame(columns=['Datetime', 'temp' , 'min_temp' , 'max_temp' , 'pressure' , 'humidity' , 'wind_speed' , 'weather' , 'sunrise','sunset']),\n",
    "    'Exmouth':pd.DataFrame(columns=['Datetime', 'temp' , 'min_temp' , 'max_temp' , 'pressure' , 'humidity' , 'wind_speed' , 'weather' , 'sunrise','sunset']), \n",
    "    'Hawaii':pd.DataFrame(columns=['Datetime', 'temp' , 'min_temp' , 'max_temp' , 'pressure' , 'humidity' , 'wind_speed' , 'weather' , 'sunrise','sunset']),\n",
    "    'Sao Paulo':pd.DataFrame(columns=['Datetime', 'temp' , 'min_temp' , 'max_temp' , 'pressure' , 'humidity' , 'wind_speed' , 'weather' , 'sunrise','sunset']),\n",
    "    'Aruba':pd.DataFrame(columns=['Datetime', 'temp' , 'min_temp' , 'max_temp' , 'pressure' , 'humidity' , 'wind_speed' , 'weather' , 'sunrise','sunset']), \n",
    "    'Havelock':pd.DataFrame(columns=['Datetime', 'temp' , 'min_temp' , 'max_temp' , 'pressure' , 'humidity' , 'wind_speed' , 'weather' , 'sunrise','sunset']), \n",
    "    'Lampedusa':pd.DataFrame(columns=['Datetime', 'temp' , 'min_temp' , 'max_temp' , 'pressure' , 'humidity' , 'wind_speed' , 'weather' , 'sunrise','sunset']) , \n",
    "    'Cancun':pd.DataFrame(columns=['Datetime', 'temp' , 'min_temp' , 'max_temp' , 'pressure' , 'humidity' , 'wind_speed' , 'weather' , 'sunrise','sunset']) , \n",
    "    'Cozumel':pd.DataFrame(columns=['Datetime', 'temp' , 'min_temp' , 'max_temp' , 'pressure' , 'humidity' , 'wind_speed' , 'weather' , 'sunrise','sunset']) , \n",
    "    'Playa del Carmen':pd.DataFrame(columns=['Datetime', 'temp' , 'min_temp' , 'max_temp' , 'pressure' , 'humidity' , 'wind_speed' , 'weather' , 'sunrise','sunset']) , \n",
    "    'Puerto Escondido':pd.DataFrame(columns=['Datetime', 'temp' , 'min_temp' , 'max_temp' , 'pressure' , 'humidity' , 'wind_speed' , 'weather' , 'sunrise','sunset']) , \n",
    "    'Acapulco':pd.DataFrame(columns=['Datetime', 'temp' , 'min_temp' , 'max_temp' , 'pressure' , 'humidity' , 'wind_speed' , 'weather' , 'sunrise','sunset']) , \n",
    "    'Tulum':pd.DataFrame(columns=['Datetime', 'temp' , 'min_temp' , 'max_temp' , 'pressure' , 'humidity' , 'wind_speed' , 'weather' , 'sunrise','sunset']) , \n",
    "    'Los Cabos':pd.DataFrame(columns=['Datetime', 'temp' , 'min_temp' , 'max_temp' , 'pressure' , 'humidity' , 'wind_speed' , 'weather' , 'sunrise','sunset'])  \n",
    "    }'''"
   ]
  },
  {
   "cell_type": "code",
   "execution_count": 45,
   "metadata": {},
   "outputs": [],
   "source": [
    "BASE_URL = \"http://api.openweathermap.org/data/2.5/weather\"\n",
    "API = 'd7f0a7befa7a96d3566133170d078f06'\n",
    "city = 'Atlanta'\n",
    "request_url = f\"{BASE_URL}?appid={API}&q={city}\""
   ]
  },
  {
   "cell_type": "code",
   "execution_count": 157,
   "metadata": {},
   "outputs": [
    {
     "data": {
      "text/plain": [
       "{'coord': {'lon': 55.7606, 'lat': 24.1917},\n",
       " 'weather': [{'id': 800,\n",
       "   'main': 'Clear',\n",
       "   'description': 'clear sky',\n",
       "   'icon': '01d'}],\n",
       " 'base': 'stations',\n",
       " 'main': {'temp': 296.94,\n",
       "  'feels_like': 296.29,\n",
       "  'temp_min': 296.94,\n",
       "  'temp_max': 296.94,\n",
       "  'pressure': 1016,\n",
       "  'humidity': 35},\n",
       " 'visibility': 10000,\n",
       " 'wind': {'speed': 3.6, 'deg': 310},\n",
       " 'clouds': {'all': 0},\n",
       " 'dt': 1675594925,\n",
       " 'sys': {'type': 1,\n",
       "  'id': 7536,\n",
       "  'country': 'AE',\n",
       "  'sunrise': 1675565809,\n",
       "  'sunset': 1675605900},\n",
       " 'timezone': 14400,\n",
       " 'id': 292913,\n",
       " 'name': 'Al Ain',\n",
       " 'cod': 200}"
      ]
     },
     "execution_count": 157,
     "metadata": {},
     "output_type": "execute_result"
    }
   ],
   "source": [
    "request_url = f\"{BASE_URL}?appid={API}&q={'Al Ain'}\"\n",
    "response = requests.get(request_url)\n",
    "data = json.loads(response.content)\n",
    "data"
   ]
  },
  {
   "cell_type": "code",
   "execution_count": 118,
   "metadata": {},
   "outputs": [
    {
     "name": "stdout",
     "output_type": "stream",
     "text": [
      "Kew\n",
      "Hampton Park\n",
      "Greensborough\n",
      "Glenroy\n",
      "Geelong\n",
      "Frankston East\n",
      "Frankston\n",
      "Essendon\n",
      "Epping\n",
      "Eltham\n",
      "Echuca\n",
      "Doncaster East\n",
      "Doncaster\n",
      "Deer Park\n",
      "Dandenong\n",
      "Cranbourne\n",
      "Craigieburn\n",
      "Coburg\n",
      "Clayton\n",
      "Carrum Downs\n",
      "Carnegie\n",
      "Camberwell\n",
      "Brunswick\n",
      "Boronia\n",
      "Berwick\n",
      "Bendigo\n",
      "Ballarat\n",
      "Cheltenham\n"
     ]
    },
    {
     "ename": "KeyboardInterrupt",
     "evalue": "",
     "output_type": "error",
     "traceback": [
      "\u001b[0;31m---------------------------------------------------------------------------\u001b[0m",
      "\u001b[0;31mKeyboardInterrupt\u001b[0m                         Traceback (most recent call last)",
      "Cell \u001b[0;32mIn[118], line 6\u001b[0m\n\u001b[1;32m      4\u001b[0m \u001b[39mfor\u001b[39;00m city \u001b[39min\u001b[39;00m cities[\u001b[39m495\u001b[39m:]:\n\u001b[1;32m      5\u001b[0m     request_url \u001b[39m=\u001b[39m \u001b[39mf\u001b[39m\u001b[39m\"\u001b[39m\u001b[39m{\u001b[39;00mBASE_URL\u001b[39m}\u001b[39;00m\u001b[39m?appid=\u001b[39m\u001b[39m{\u001b[39;00mAPI\u001b[39m}\u001b[39;00m\u001b[39m&q=\u001b[39m\u001b[39m{\u001b[39;00mcity\u001b[39m}\u001b[39;00m\u001b[39m\"\u001b[39m\n\u001b[0;32m----> 6\u001b[0m     response \u001b[39m=\u001b[39m requests\u001b[39m.\u001b[39;49mget(request_url)\n\u001b[1;32m      7\u001b[0m     data \u001b[39m=\u001b[39m json\u001b[39m.\u001b[39mloads(response\u001b[39m.\u001b[39mcontent)\n\u001b[1;32m      9\u001b[0m     \u001b[39mprint\u001b[39m(city)\n",
      "File \u001b[0;32m~/py_venv/basic/lib/python3.8/site-packages/requests/api.py:73\u001b[0m, in \u001b[0;36mget\u001b[0;34m(url, params, **kwargs)\u001b[0m\n\u001b[1;32m     62\u001b[0m \u001b[39mdef\u001b[39;00m \u001b[39mget\u001b[39m(url, params\u001b[39m=\u001b[39m\u001b[39mNone\u001b[39;00m, \u001b[39m*\u001b[39m\u001b[39m*\u001b[39mkwargs):\n\u001b[1;32m     63\u001b[0m \u001b[39m    \u001b[39m\u001b[39mr\u001b[39m\u001b[39m\"\"\"Sends a GET request.\u001b[39;00m\n\u001b[1;32m     64\u001b[0m \n\u001b[1;32m     65\u001b[0m \u001b[39m    :param url: URL for the new :class:`Request` object.\u001b[39;00m\n\u001b[0;32m   (...)\u001b[0m\n\u001b[1;32m     70\u001b[0m \u001b[39m    :rtype: requests.Response\u001b[39;00m\n\u001b[1;32m     71\u001b[0m \u001b[39m    \"\"\"\u001b[39;00m\n\u001b[0;32m---> 73\u001b[0m     \u001b[39mreturn\u001b[39;00m request(\u001b[39m\"\u001b[39;49m\u001b[39mget\u001b[39;49m\u001b[39m\"\u001b[39;49m, url, params\u001b[39m=\u001b[39;49mparams, \u001b[39m*\u001b[39;49m\u001b[39m*\u001b[39;49mkwargs)\n",
      "File \u001b[0;32m~/py_venv/basic/lib/python3.8/site-packages/requests/api.py:59\u001b[0m, in \u001b[0;36mrequest\u001b[0;34m(method, url, **kwargs)\u001b[0m\n\u001b[1;32m     55\u001b[0m \u001b[39m# By using the 'with' statement we are sure the session is closed, thus we\u001b[39;00m\n\u001b[1;32m     56\u001b[0m \u001b[39m# avoid leaving sockets open which can trigger a ResourceWarning in some\u001b[39;00m\n\u001b[1;32m     57\u001b[0m \u001b[39m# cases, and look like a memory leak in others.\u001b[39;00m\n\u001b[1;32m     58\u001b[0m \u001b[39mwith\u001b[39;00m sessions\u001b[39m.\u001b[39mSession() \u001b[39mas\u001b[39;00m session:\n\u001b[0;32m---> 59\u001b[0m     \u001b[39mreturn\u001b[39;00m session\u001b[39m.\u001b[39;49mrequest(method\u001b[39m=\u001b[39;49mmethod, url\u001b[39m=\u001b[39;49murl, \u001b[39m*\u001b[39;49m\u001b[39m*\u001b[39;49mkwargs)\n",
      "File \u001b[0;32m~/py_venv/basic/lib/python3.8/site-packages/requests/sessions.py:587\u001b[0m, in \u001b[0;36mSession.request\u001b[0;34m(self, method, url, params, data, headers, cookies, files, auth, timeout, allow_redirects, proxies, hooks, stream, verify, cert, json)\u001b[0m\n\u001b[1;32m    582\u001b[0m send_kwargs \u001b[39m=\u001b[39m {\n\u001b[1;32m    583\u001b[0m     \u001b[39m\"\u001b[39m\u001b[39mtimeout\u001b[39m\u001b[39m\"\u001b[39m: timeout,\n\u001b[1;32m    584\u001b[0m     \u001b[39m\"\u001b[39m\u001b[39mallow_redirects\u001b[39m\u001b[39m\"\u001b[39m: allow_redirects,\n\u001b[1;32m    585\u001b[0m }\n\u001b[1;32m    586\u001b[0m send_kwargs\u001b[39m.\u001b[39mupdate(settings)\n\u001b[0;32m--> 587\u001b[0m resp \u001b[39m=\u001b[39m \u001b[39mself\u001b[39;49m\u001b[39m.\u001b[39;49msend(prep, \u001b[39m*\u001b[39;49m\u001b[39m*\u001b[39;49msend_kwargs)\n\u001b[1;32m    589\u001b[0m \u001b[39mreturn\u001b[39;00m resp\n",
      "File \u001b[0;32m~/py_venv/basic/lib/python3.8/site-packages/requests/sessions.py:701\u001b[0m, in \u001b[0;36mSession.send\u001b[0;34m(self, request, **kwargs)\u001b[0m\n\u001b[1;32m    698\u001b[0m start \u001b[39m=\u001b[39m preferred_clock()\n\u001b[1;32m    700\u001b[0m \u001b[39m# Send the request\u001b[39;00m\n\u001b[0;32m--> 701\u001b[0m r \u001b[39m=\u001b[39m adapter\u001b[39m.\u001b[39;49msend(request, \u001b[39m*\u001b[39;49m\u001b[39m*\u001b[39;49mkwargs)\n\u001b[1;32m    703\u001b[0m \u001b[39m# Total elapsed time of the request (approximately)\u001b[39;00m\n\u001b[1;32m    704\u001b[0m elapsed \u001b[39m=\u001b[39m preferred_clock() \u001b[39m-\u001b[39m start\n",
      "File \u001b[0;32m~/py_venv/basic/lib/python3.8/site-packages/requests/adapters.py:489\u001b[0m, in \u001b[0;36mHTTPAdapter.send\u001b[0;34m(self, request, stream, timeout, verify, cert, proxies)\u001b[0m\n\u001b[1;32m    487\u001b[0m \u001b[39mtry\u001b[39;00m:\n\u001b[1;32m    488\u001b[0m     \u001b[39mif\u001b[39;00m \u001b[39mnot\u001b[39;00m chunked:\n\u001b[0;32m--> 489\u001b[0m         resp \u001b[39m=\u001b[39m conn\u001b[39m.\u001b[39;49murlopen(\n\u001b[1;32m    490\u001b[0m             method\u001b[39m=\u001b[39;49mrequest\u001b[39m.\u001b[39;49mmethod,\n\u001b[1;32m    491\u001b[0m             url\u001b[39m=\u001b[39;49murl,\n\u001b[1;32m    492\u001b[0m             body\u001b[39m=\u001b[39;49mrequest\u001b[39m.\u001b[39;49mbody,\n\u001b[1;32m    493\u001b[0m             headers\u001b[39m=\u001b[39;49mrequest\u001b[39m.\u001b[39;49mheaders,\n\u001b[1;32m    494\u001b[0m             redirect\u001b[39m=\u001b[39;49m\u001b[39mFalse\u001b[39;49;00m,\n\u001b[1;32m    495\u001b[0m             assert_same_host\u001b[39m=\u001b[39;49m\u001b[39mFalse\u001b[39;49;00m,\n\u001b[1;32m    496\u001b[0m             preload_content\u001b[39m=\u001b[39;49m\u001b[39mFalse\u001b[39;49;00m,\n\u001b[1;32m    497\u001b[0m             decode_content\u001b[39m=\u001b[39;49m\u001b[39mFalse\u001b[39;49;00m,\n\u001b[1;32m    498\u001b[0m             retries\u001b[39m=\u001b[39;49m\u001b[39mself\u001b[39;49m\u001b[39m.\u001b[39;49mmax_retries,\n\u001b[1;32m    499\u001b[0m             timeout\u001b[39m=\u001b[39;49mtimeout,\n\u001b[1;32m    500\u001b[0m         )\n\u001b[1;32m    502\u001b[0m     \u001b[39m# Send the request.\u001b[39;00m\n\u001b[1;32m    503\u001b[0m     \u001b[39melse\u001b[39;00m:\n\u001b[1;32m    504\u001b[0m         \u001b[39mif\u001b[39;00m \u001b[39mhasattr\u001b[39m(conn, \u001b[39m\"\u001b[39m\u001b[39mproxy_pool\u001b[39m\u001b[39m\"\u001b[39m):\n",
      "File \u001b[0;32m~/py_venv/basic/lib/python3.8/site-packages/urllib3/connectionpool.py:703\u001b[0m, in \u001b[0;36mHTTPConnectionPool.urlopen\u001b[0;34m(self, method, url, body, headers, retries, redirect, assert_same_host, timeout, pool_timeout, release_conn, chunked, body_pos, **response_kw)\u001b[0m\n\u001b[1;32m    700\u001b[0m     \u001b[39mself\u001b[39m\u001b[39m.\u001b[39m_prepare_proxy(conn)\n\u001b[1;32m    702\u001b[0m \u001b[39m# Make the request on the httplib connection object.\u001b[39;00m\n\u001b[0;32m--> 703\u001b[0m httplib_response \u001b[39m=\u001b[39m \u001b[39mself\u001b[39;49m\u001b[39m.\u001b[39;49m_make_request(\n\u001b[1;32m    704\u001b[0m     conn,\n\u001b[1;32m    705\u001b[0m     method,\n\u001b[1;32m    706\u001b[0m     url,\n\u001b[1;32m    707\u001b[0m     timeout\u001b[39m=\u001b[39;49mtimeout_obj,\n\u001b[1;32m    708\u001b[0m     body\u001b[39m=\u001b[39;49mbody,\n\u001b[1;32m    709\u001b[0m     headers\u001b[39m=\u001b[39;49mheaders,\n\u001b[1;32m    710\u001b[0m     chunked\u001b[39m=\u001b[39;49mchunked,\n\u001b[1;32m    711\u001b[0m )\n\u001b[1;32m    713\u001b[0m \u001b[39m# If we're going to release the connection in ``finally:``, then\u001b[39;00m\n\u001b[1;32m    714\u001b[0m \u001b[39m# the response doesn't need to know about the connection. Otherwise\u001b[39;00m\n\u001b[1;32m    715\u001b[0m \u001b[39m# it will also try to release it and we'll have a double-release\u001b[39;00m\n\u001b[1;32m    716\u001b[0m \u001b[39m# mess.\u001b[39;00m\n\u001b[1;32m    717\u001b[0m response_conn \u001b[39m=\u001b[39m conn \u001b[39mif\u001b[39;00m \u001b[39mnot\u001b[39;00m release_conn \u001b[39melse\u001b[39;00m \u001b[39mNone\u001b[39;00m\n",
      "File \u001b[0;32m~/py_venv/basic/lib/python3.8/site-packages/urllib3/connectionpool.py:449\u001b[0m, in \u001b[0;36mHTTPConnectionPool._make_request\u001b[0;34m(self, conn, method, url, timeout, chunked, **httplib_request_kw)\u001b[0m\n\u001b[1;32m    444\u001b[0m             httplib_response \u001b[39m=\u001b[39m conn\u001b[39m.\u001b[39mgetresponse()\n\u001b[1;32m    445\u001b[0m         \u001b[39mexcept\u001b[39;00m \u001b[39mBaseException\u001b[39;00m \u001b[39mas\u001b[39;00m e:\n\u001b[1;32m    446\u001b[0m             \u001b[39m# Remove the TypeError from the exception chain in\u001b[39;00m\n\u001b[1;32m    447\u001b[0m             \u001b[39m# Python 3 (including for exceptions like SystemExit).\u001b[39;00m\n\u001b[1;32m    448\u001b[0m             \u001b[39m# Otherwise it looks like a bug in the code.\u001b[39;00m\n\u001b[0;32m--> 449\u001b[0m             six\u001b[39m.\u001b[39;49mraise_from(e, \u001b[39mNone\u001b[39;49;00m)\n\u001b[1;32m    450\u001b[0m \u001b[39mexcept\u001b[39;00m (SocketTimeout, BaseSSLError, SocketError) \u001b[39mas\u001b[39;00m e:\n\u001b[1;32m    451\u001b[0m     \u001b[39mself\u001b[39m\u001b[39m.\u001b[39m_raise_timeout(err\u001b[39m=\u001b[39me, url\u001b[39m=\u001b[39murl, timeout_value\u001b[39m=\u001b[39mread_timeout)\n",
      "File \u001b[0;32m<string>:3\u001b[0m, in \u001b[0;36mraise_from\u001b[0;34m(value, from_value)\u001b[0m\n",
      "File \u001b[0;32m~/py_venv/basic/lib/python3.8/site-packages/urllib3/connectionpool.py:444\u001b[0m, in \u001b[0;36mHTTPConnectionPool._make_request\u001b[0;34m(self, conn, method, url, timeout, chunked, **httplib_request_kw)\u001b[0m\n\u001b[1;32m    441\u001b[0m \u001b[39mexcept\u001b[39;00m \u001b[39mTypeError\u001b[39;00m:\n\u001b[1;32m    442\u001b[0m     \u001b[39m# Python 3\u001b[39;00m\n\u001b[1;32m    443\u001b[0m     \u001b[39mtry\u001b[39;00m:\n\u001b[0;32m--> 444\u001b[0m         httplib_response \u001b[39m=\u001b[39m conn\u001b[39m.\u001b[39;49mgetresponse()\n\u001b[1;32m    445\u001b[0m     \u001b[39mexcept\u001b[39;00m \u001b[39mBaseException\u001b[39;00m \u001b[39mas\u001b[39;00m e:\n\u001b[1;32m    446\u001b[0m         \u001b[39m# Remove the TypeError from the exception chain in\u001b[39;00m\n\u001b[1;32m    447\u001b[0m         \u001b[39m# Python 3 (including for exceptions like SystemExit).\u001b[39;00m\n\u001b[1;32m    448\u001b[0m         \u001b[39m# Otherwise it looks like a bug in the code.\u001b[39;00m\n\u001b[1;32m    449\u001b[0m         six\u001b[39m.\u001b[39mraise_from(e, \u001b[39mNone\u001b[39;00m)\n",
      "File \u001b[0;32m/usr/lib/python3.8/http/client.py:1348\u001b[0m, in \u001b[0;36mHTTPConnection.getresponse\u001b[0;34m(self)\u001b[0m\n\u001b[1;32m   1346\u001b[0m \u001b[39mtry\u001b[39;00m:\n\u001b[1;32m   1347\u001b[0m     \u001b[39mtry\u001b[39;00m:\n\u001b[0;32m-> 1348\u001b[0m         response\u001b[39m.\u001b[39;49mbegin()\n\u001b[1;32m   1349\u001b[0m     \u001b[39mexcept\u001b[39;00m \u001b[39mConnectionError\u001b[39;00m:\n\u001b[1;32m   1350\u001b[0m         \u001b[39mself\u001b[39m\u001b[39m.\u001b[39mclose()\n",
      "File \u001b[0;32m/usr/lib/python3.8/http/client.py:316\u001b[0m, in \u001b[0;36mHTTPResponse.begin\u001b[0;34m(self)\u001b[0m\n\u001b[1;32m    314\u001b[0m \u001b[39m# read until we get a non-100 response\u001b[39;00m\n\u001b[1;32m    315\u001b[0m \u001b[39mwhile\u001b[39;00m \u001b[39mTrue\u001b[39;00m:\n\u001b[0;32m--> 316\u001b[0m     version, status, reason \u001b[39m=\u001b[39m \u001b[39mself\u001b[39;49m\u001b[39m.\u001b[39;49m_read_status()\n\u001b[1;32m    317\u001b[0m     \u001b[39mif\u001b[39;00m status \u001b[39m!=\u001b[39m CONTINUE:\n\u001b[1;32m    318\u001b[0m         \u001b[39mbreak\u001b[39;00m\n",
      "File \u001b[0;32m/usr/lib/python3.8/http/client.py:277\u001b[0m, in \u001b[0;36mHTTPResponse._read_status\u001b[0;34m(self)\u001b[0m\n\u001b[1;32m    276\u001b[0m \u001b[39mdef\u001b[39;00m \u001b[39m_read_status\u001b[39m(\u001b[39mself\u001b[39m):\n\u001b[0;32m--> 277\u001b[0m     line \u001b[39m=\u001b[39m \u001b[39mstr\u001b[39m(\u001b[39mself\u001b[39;49m\u001b[39m.\u001b[39;49mfp\u001b[39m.\u001b[39;49mreadline(_MAXLINE \u001b[39m+\u001b[39;49m \u001b[39m1\u001b[39;49m), \u001b[39m\"\u001b[39m\u001b[39miso-8859-1\u001b[39m\u001b[39m\"\u001b[39m)\n\u001b[1;32m    278\u001b[0m     \u001b[39mif\u001b[39;00m \u001b[39mlen\u001b[39m(line) \u001b[39m>\u001b[39m _MAXLINE:\n\u001b[1;32m    279\u001b[0m         \u001b[39mraise\u001b[39;00m LineTooLong(\u001b[39m\"\u001b[39m\u001b[39mstatus line\u001b[39m\u001b[39m\"\u001b[39m)\n",
      "File \u001b[0;32m/usr/lib/python3.8/socket.py:669\u001b[0m, in \u001b[0;36mSocketIO.readinto\u001b[0;34m(self, b)\u001b[0m\n\u001b[1;32m    667\u001b[0m \u001b[39mwhile\u001b[39;00m \u001b[39mTrue\u001b[39;00m:\n\u001b[1;32m    668\u001b[0m     \u001b[39mtry\u001b[39;00m:\n\u001b[0;32m--> 669\u001b[0m         \u001b[39mreturn\u001b[39;00m \u001b[39mself\u001b[39;49m\u001b[39m.\u001b[39;49m_sock\u001b[39m.\u001b[39;49mrecv_into(b)\n\u001b[1;32m    670\u001b[0m     \u001b[39mexcept\u001b[39;00m timeout:\n\u001b[1;32m    671\u001b[0m         \u001b[39mself\u001b[39m\u001b[39m.\u001b[39m_timeout_occurred \u001b[39m=\u001b[39m \u001b[39mTrue\u001b[39;00m\n",
      "\u001b[0;31mKeyboardInterrupt\u001b[0m: "
     ]
    }
   ],
   "source": [
    "try:\n",
    "    cities = list(all_cities_df['city'])\n",
    "    for i in range(1440):\n",
    "        for city in cities[495:]:\n",
    "            request_url = f\"{BASE_URL}?appid={API}&q={city}\"\n",
    "            response = requests.get(request_url)\n",
    "            data = json.loads(response.content)\n",
    "\n",
    "            print(city)\n",
    "\n",
    "            dt = datetime.fromtimestamp(data['dt'])\n",
    "            temp = round(data['main']['temp'] - 273.15, 2)\n",
    "            min_temp = round(data['main']['temp_min'] - 273.15, 2)\n",
    "            max_temp = round(data['main']['temp_max'] - 273.15, 2)\n",
    "            pressure = round(data['main']['pressure'] , 2)\n",
    "            humidity = round(data['main']['humidity'] , 2)\n",
    "            wind_speed = round(data['wind']['speed'], 2)\n",
    "            weather = data['weather'][0]['main']\n",
    "            sunrise = datetime.fromtimestamp(data['sys']['sunrise'])\n",
    "            sunset = datetime.fromtimestamp(data['sys']['sunset'])\n",
    "            '''print('-'*50)\n",
    "            print(f\"At the present moment {dt} in {city.upper()}:\")\n",
    "            print(f\"Current Temperature is {temp}, with minimum of {min_temp} and max as in the {max_temp}\")\n",
    "            print(f\"Current Pressure is {pressure}\")\n",
    "            print(f\"Current Humidity is {humidity}\")\n",
    "            print(f\"Current Weather is {weather}\")\n",
    "            print(f\"Current Wind speed is {wind_speed}\")\n",
    "            print(f\"The sunrise is at {sunrise} and the sunddawn is at {sunset} \")\n",
    "            print('-'*50)'''\n",
    "\n",
    "            # Store data in dict\n",
    "            dict[city]['temp'].append(temp)\n",
    "            dict[city]['min_temp'].append(min_temp)\n",
    "            dict[city]['max_temp'].append(max_temp)\n",
    "            dict[city]['pressure'].append(pressure)\n",
    "            dict[city]['humidity'].append(humidity)\n",
    "            dict[city]['wind_speed'].append(wind_speed)\n",
    "            dict[city]['weather'].append(weather)\n",
    "            dict[city]['sunrise'].append(sunrise)\n",
    "            dict[city]['sunset'].append(sunset)\n",
    "            # Store data in df\n",
    "\n",
    "            if i==0 :\n",
    "                temp_df = pd.DataFrame({'Datetime':[dt],'temp':[temp],'min_temp':[min_temp],'max_temp':[max_temp],'pressure':[pressure],'humidity':[humidity],'wind_speed':[wind_speed],'weather':[weather],'sunrise':[sunrise],'sunset':[sunset]})#,columns=['Datetime', 'temp' , 'min_temp' , 'max_temp' , 'pressure' , 'humidity' , 'wind_speed' , 'weather' , 'sunrise','sunset'])\n",
    "                dict_df[city] = pd.concat([dict_df[city] ,temp_df])\n",
    "                dict_df[city].to_csv(f'/home/vboxuser/Documents/030223/data_stream/{city}/CheckedIn_{datetime.now().strftime(\"%m_%d_%Y_T_%H:%M:%S\")}_DataUpTo_{dt}.csv')\n",
    "\n",
    "            elif i>=1 and dict_df[city]['Datetime'].iloc[dict_df[city].shape[0]-1] != dt:\n",
    "                temp_df = pd.DataFrame({'Datetime':[dt],'temp':[temp],'min_temp':[min_temp],'max_temp':[max_temp],'pressure':[pressure],'humidity':[humidity],'wind_speed':[wind_speed],'weather':[weather],'sunrise':[sunrise],'sunset':[sunset]})#,columns=['Datetime', 'temp' , 'min_temp' , 'max_temp' , 'pressure' , 'humidity' , 'wind_speed' , 'weather' , 'sunrise','sunset'])\n",
    "                dict_df[city] = pd.concat([dict_df[city] ,temp_df])\n",
    "                dict_df[city].to_csv(f'/home/vboxuser/Documents/030223/data_stream/{city}/CheckedIn_{datetime.now().strftime(\"%m_%d_%Y_T_%H:%M:%S\")}_DataUpTo_{dt}.csv')\n",
    "            else:\n",
    "                print(f'No register made, Repeated value for {city} at {dt}')\n",
    "                \n",
    "                \n",
    "            for filename in sorted(os.listdir(f\"/home/vboxuser/Documents/030223/data_stream/{city}/\"))[:-10]:\n",
    "                filename_relPath = os.path.join(f\"/home/vboxuser/Documents/030223/data_stream/{city}/\",filename)\n",
    "                os.remove(filename_relPath)\n",
    "        sleep(60)\n",
    "except IndexError:\n",
    "    \n",
    "    index = list(all_cities_df[all_cities_df['city']==city].index\n",
    ")[0]\n",
    "    print(f'The city {city} ({(i , index)}) is not found in the API data')\n",
    "\n",
    "    all_cities_df.drop(index,inplace=True)\n",
    "    all_cities_df.reset_index(inplace=True,drop=True)\n",
    "    cities = list(all_cities_df['city'])\n",
    "except KeyError:\n",
    "    \n",
    "    index = list(all_cities_df[all_cities_df['city']==city].index\n",
    ")[0]\n",
    "    print(f'The city {city} ({(i , index)}) is not found in the API data')\n",
    "\n",
    "    all_cities_df.drop(index,inplace=True)\n",
    "    all_cities_df.reset_index(inplace=True,drop=True)\n",
    "    cities = list(all_cities_df['city'])\n",
    "\n",
    "        "
   ]
  },
  {
   "cell_type": "code",
   "execution_count": 85,
   "metadata": {},
   "outputs": [
    {
     "ename": "SyntaxError",
     "evalue": "invalid syntax (3749489512.py, line 1)",
     "output_type": "error",
     "traceback": [
      "\u001b[0;36m  Cell \u001b[0;32mIn[85], line 1\u001b[0;36m\u001b[0m\n\u001b[0;31m    index = all_cities_df[all_cities_df['city']==]\u001b[0m\n\u001b[0m                                                 ^\u001b[0m\n\u001b[0;31mSyntaxError\u001b[0m\u001b[0;31m:\u001b[0m invalid syntax\n"
     ]
    }
   ],
   "source": [
    "index = all_cities_df[all_cities_df['city'\n",
    "index"
   ]
  },
  {
   "cell_type": "code",
   "execution_count": 128,
   "metadata": {},
   "outputs": [],
   "source": [
    "def fetch_weather_data(ind,cities):    \n",
    "    try:\n",
    "        cities = list(all_cities_df['city'])\n",
    "        for i in range(1440):\n",
    "            for city in cities[ind-10:]:\n",
    "                request_url = f\"{BASE_URL}?appid={API}&q={city}\"\n",
    "                response = requests.get(request_url)\n",
    "                data = json.loads(response.content)\n",
    "                dt = datetime.fromtimestamp(data['dt'])\n",
    "                temp = round(data['main']['temp'] - 273.15, 2)\n",
    "                min_temp = round(data['main']['temp_min'] - 273.15, 2)\n",
    "                max_temp = round(data['main']['temp_max'] - 273.15, 2)\n",
    "                pressure = round(data['main']['pressure'] , 2)\n",
    "                humidity = round(data['main']['humidity'] , 2)\n",
    "                wind_speed = round(data['wind']['speed'], 2)\n",
    "                weather = data['weather'][0]['main']\n",
    "                sunrise = datetime.fromtimestamp(data['sys']['sunrise'])\n",
    "                sunset = datetime.fromtimestamp(data['sys']['sunset'])\n",
    "                '''print('-'*50)\n",
    "                print(f\"At the present moment {dt} in {city.upper()}:\")\n",
    "                print(f\"Current Temperature is {temp}, with minimum of {min_temp} and max as in the {max_temp}\")\n",
    "                print(f\"Current Pressure is {pressure}\")\n",
    "                print(f\"Current Humidity is {humidity}\")\n",
    "                print(f\"Current Weather is {weather}\")\n",
    "                print(f\"Current Wind speed is {wind_speed}\")\n",
    "                print(f\"The sunrise is at {sunrise} and the sunddawn is at {sunset} \")\n",
    "                print('-'*50)'''\n",
    "\n",
    "                # Store data in dict\n",
    "                dict[city]['temp'].append(temp)\n",
    "                dict[city]['min_temp'].append(min_temp)\n",
    "                dict[city]['max_temp'].append(max_temp)\n",
    "                dict[city]['pressure'].append(pressure)\n",
    "                dict[city]['humidity'].append(humidity)\n",
    "                dict[city]['wind_speed'].append(wind_speed)\n",
    "                dict[city]['weather'].append(weather)\n",
    "                dict[city]['sunrise'].append(sunrise)\n",
    "                dict[city]['sunset'].append(sunset)\n",
    "                # Store data in df\n",
    "\n",
    "                if i==0 :\n",
    "                    temp_df = pd.DataFrame({'Datetime':[dt],'temp':[temp],'min_temp':[min_temp],'max_temp':[max_temp],'pressure':[pressure],'humidity':[humidity],'wind_speed':[wind_speed],'weather':[weather],'sunrise':[sunrise],'sunset':[sunset]})#,columns=['Datetime', 'temp' , 'min_temp' , 'max_temp' , 'pressure' , 'humidity' , 'wind_speed' , 'weather' , 'sunrise','sunset'])\n",
    "                    dict_df[city] = pd.concat([dict_df[city] ,temp_df])\n",
    "                    dict_df[city].to_csv(f'/home/vboxuser/Documents/030223/data_stream/{city}/CheckedIn_{datetime.now().strftime(\"%m_%d_%Y_T_%H:%M:%S\")}_DataUpTo_{dt}.csv')\n",
    "\n",
    "                elif i>=1 and dict_df[city]['Datetime'].iloc[dict_df[city].shape[0]-1] != dt:\n",
    "                    temp_df = pd.DataFrame({'Datetime':[dt],'temp':[temp],'min_temp':[min_temp],'max_temp':[max_temp],'pressure':[pressure],'humidity':[humidity],'wind_speed':[wind_speed],'weather':[weather],'sunrise':[sunrise],'sunset':[sunset]})#,columns=['Datetime', 'temp' , 'min_temp' , 'max_temp' , 'pressure' , 'humidity' , 'wind_speed' , 'weather' , 'sunrise','sunset'])\n",
    "                    dict_df[city] = pd.concat([dict_df[city] ,temp_df])\n",
    "                    dict_df[city].to_csv(f'/home/vboxuser/Documents/030223/data_stream/{city}/CheckedIn_{datetime.now().strftime(\"%m_%d_%Y_T_%H:%M:%S\")}_DataUpTo_{dt}.csv')\n",
    "                else:\n",
    "                    print(f'No register made, Repeated value for {city} at {dt}')\n",
    "                    \n",
    "                    \n",
    "                for filename in sorted(os.listdir(f\"/home/vboxuser/Documents/030223/data_stream/{city}/\"))[:-10]:\n",
    "                    filename_relPath = os.path.join(f\"/home/vboxuser/Documents/030223/data_stream/{city}/\",filename)\n",
    "                    os.remove(filename_relPath)\n",
    "            sleep(60)\n",
    "    except KeyError:\n",
    "        try:\n",
    "            index = list(all_cities_df[all_cities_df['city']==city].index\n",
    "        )[0]\n",
    "            print(f'The city {city} ({(i , index )}) is not found in the API data')\n",
    "            all_cities_df.drop(index,inplace=True)\n",
    "            all_cities_df.reset_index(inplace=True,drop=True)\n",
    "            cities = list(all_cities_df['city'])\n",
    "            fetch_weather_data(index,cities)\n",
    "        except IndexError:\n",
    "            print(f'The city {city} ({(i  )}) is not found in the API data')\n",
    "            cities = list(all_cities_df['city'])\n",
    "            fetch_weather_data(index,cities)\n",
    "        except KeyError:\n",
    "    \n",
    "            index = list(all_cities_df[all_cities_df['city']==city].index\n",
    "        )[0]\n",
    "            print(f'The city {city} ({(i , index)}) is not found in the API data')\n",
    "\n",
    "            all_cities_df.drop(index,inplace=True)\n",
    "            all_cities_df.reset_index(inplace=True,drop=True)\n",
    "            cities = list(all_cities_df['city'])\n",
    "    \n"
   ]
  },
  {
   "cell_type": "code",
   "execution_count": 155,
   "metadata": {},
   "outputs": [
    {
     "ename": "OSError",
     "evalue": "Cannot save file into a non-existent directory: '/home/vboxuser/Documents/030223/data_stream/Biel/Bienne'",
     "output_type": "error",
     "traceback": [
      "\u001b[0;31m---------------------------------------------------------------------------\u001b[0m",
      "\u001b[0;31mOSError\u001b[0m                                   Traceback (most recent call last)",
      "Cell \u001b[0;32mIn[155], line 1\u001b[0m\n\u001b[0;32m----> 1\u001b[0m fetch_weather_data(\u001b[39m2860\u001b[39;49m,cities)\n",
      "Cell \u001b[0;32mIn[128], line 44\u001b[0m, in \u001b[0;36mfetch_weather_data\u001b[0;34m(ind, cities)\u001b[0m\n\u001b[1;32m     42\u001b[0m     temp_df \u001b[39m=\u001b[39m pd\u001b[39m.\u001b[39mDataFrame({\u001b[39m'\u001b[39m\u001b[39mDatetime\u001b[39m\u001b[39m'\u001b[39m:[dt],\u001b[39m'\u001b[39m\u001b[39mtemp\u001b[39m\u001b[39m'\u001b[39m:[temp],\u001b[39m'\u001b[39m\u001b[39mmin_temp\u001b[39m\u001b[39m'\u001b[39m:[min_temp],\u001b[39m'\u001b[39m\u001b[39mmax_temp\u001b[39m\u001b[39m'\u001b[39m:[max_temp],\u001b[39m'\u001b[39m\u001b[39mpressure\u001b[39m\u001b[39m'\u001b[39m:[pressure],\u001b[39m'\u001b[39m\u001b[39mhumidity\u001b[39m\u001b[39m'\u001b[39m:[humidity],\u001b[39m'\u001b[39m\u001b[39mwind_speed\u001b[39m\u001b[39m'\u001b[39m:[wind_speed],\u001b[39m'\u001b[39m\u001b[39mweather\u001b[39m\u001b[39m'\u001b[39m:[weather],\u001b[39m'\u001b[39m\u001b[39msunrise\u001b[39m\u001b[39m'\u001b[39m:[sunrise],\u001b[39m'\u001b[39m\u001b[39msunset\u001b[39m\u001b[39m'\u001b[39m:[sunset]})\u001b[39m#,columns=['Datetime', 'temp' , 'min_temp' , 'max_temp' , 'pressure' , 'humidity' , 'wind_speed' , 'weather' , 'sunrise','sunset'])\u001b[39;00m\n\u001b[1;32m     43\u001b[0m     dict_df[city] \u001b[39m=\u001b[39m pd\u001b[39m.\u001b[39mconcat([dict_df[city] ,temp_df])\n\u001b[0;32m---> 44\u001b[0m     dict_df[city]\u001b[39m.\u001b[39;49mto_csv(\u001b[39mf\u001b[39;49m\u001b[39m'\u001b[39;49m\u001b[39m/home/vboxuser/Documents/030223/data_stream/\u001b[39;49m\u001b[39m{\u001b[39;49;00mcity\u001b[39m}\u001b[39;49;00m\u001b[39m/CheckedIn_\u001b[39;49m\u001b[39m{\u001b[39;49;00mdatetime\u001b[39m.\u001b[39;49mnow()\u001b[39m.\u001b[39;49mstrftime(\u001b[39m\"\u001b[39;49m\u001b[39m%\u001b[39;49m\u001b[39mm_\u001b[39;49m\u001b[39m%d\u001b[39;49;00m\u001b[39m_\u001b[39;49m\u001b[39m%\u001b[39;49m\u001b[39mY_T_\u001b[39;49m\u001b[39m%\u001b[39;49m\u001b[39mH:\u001b[39;49m\u001b[39m%\u001b[39;49m\u001b[39mM:\u001b[39;49m\u001b[39m%\u001b[39;49m\u001b[39mS\u001b[39;49m\u001b[39m\"\u001b[39;49m)\u001b[39m}\u001b[39;49;00m\u001b[39m_DataUpTo_\u001b[39;49m\u001b[39m{\u001b[39;49;00mdt\u001b[39m}\u001b[39;49;00m\u001b[39m.csv\u001b[39;49m\u001b[39m'\u001b[39;49m)\n\u001b[1;32m     46\u001b[0m \u001b[39melif\u001b[39;00m i\u001b[39m>\u001b[39m\u001b[39m=\u001b[39m\u001b[39m1\u001b[39m \u001b[39mand\u001b[39;00m dict_df[city][\u001b[39m'\u001b[39m\u001b[39mDatetime\u001b[39m\u001b[39m'\u001b[39m]\u001b[39m.\u001b[39miloc[dict_df[city]\u001b[39m.\u001b[39mshape[\u001b[39m0\u001b[39m]\u001b[39m-\u001b[39m\u001b[39m1\u001b[39m] \u001b[39m!=\u001b[39m dt:\n\u001b[1;32m     47\u001b[0m     temp_df \u001b[39m=\u001b[39m pd\u001b[39m.\u001b[39mDataFrame({\u001b[39m'\u001b[39m\u001b[39mDatetime\u001b[39m\u001b[39m'\u001b[39m:[dt],\u001b[39m'\u001b[39m\u001b[39mtemp\u001b[39m\u001b[39m'\u001b[39m:[temp],\u001b[39m'\u001b[39m\u001b[39mmin_temp\u001b[39m\u001b[39m'\u001b[39m:[min_temp],\u001b[39m'\u001b[39m\u001b[39mmax_temp\u001b[39m\u001b[39m'\u001b[39m:[max_temp],\u001b[39m'\u001b[39m\u001b[39mpressure\u001b[39m\u001b[39m'\u001b[39m:[pressure],\u001b[39m'\u001b[39m\u001b[39mhumidity\u001b[39m\u001b[39m'\u001b[39m:[humidity],\u001b[39m'\u001b[39m\u001b[39mwind_speed\u001b[39m\u001b[39m'\u001b[39m:[wind_speed],\u001b[39m'\u001b[39m\u001b[39mweather\u001b[39m\u001b[39m'\u001b[39m:[weather],\u001b[39m'\u001b[39m\u001b[39msunrise\u001b[39m\u001b[39m'\u001b[39m:[sunrise],\u001b[39m'\u001b[39m\u001b[39msunset\u001b[39m\u001b[39m'\u001b[39m:[sunset]})\u001b[39m#,columns=['Datetime', 'temp' , 'min_temp' , 'max_temp' , 'pressure' , 'humidity' , 'wind_speed' , 'weather' , 'sunrise','sunset'])\u001b[39;00m\n",
      "File \u001b[0;32m~/py_venv/basic/lib/python3.8/site-packages/pandas/util/_decorators.py:211\u001b[0m, in \u001b[0;36mdeprecate_kwarg.<locals>._deprecate_kwarg.<locals>.wrapper\u001b[0;34m(*args, **kwargs)\u001b[0m\n\u001b[1;32m    209\u001b[0m     \u001b[39melse\u001b[39;00m:\n\u001b[1;32m    210\u001b[0m         kwargs[new_arg_name] \u001b[39m=\u001b[39m new_arg_value\n\u001b[0;32m--> 211\u001b[0m \u001b[39mreturn\u001b[39;00m func(\u001b[39m*\u001b[39;49margs, \u001b[39m*\u001b[39;49m\u001b[39m*\u001b[39;49mkwargs)\n",
      "File \u001b[0;32m~/py_venv/basic/lib/python3.8/site-packages/pandas/core/generic.py:3720\u001b[0m, in \u001b[0;36mNDFrame.to_csv\u001b[0;34m(self, path_or_buf, sep, na_rep, float_format, columns, header, index, index_label, mode, encoding, compression, quoting, quotechar, lineterminator, chunksize, date_format, doublequote, escapechar, decimal, errors, storage_options)\u001b[0m\n\u001b[1;32m   3709\u001b[0m df \u001b[39m=\u001b[39m \u001b[39mself\u001b[39m \u001b[39mif\u001b[39;00m \u001b[39misinstance\u001b[39m(\u001b[39mself\u001b[39m, ABCDataFrame) \u001b[39melse\u001b[39;00m \u001b[39mself\u001b[39m\u001b[39m.\u001b[39mto_frame()\n\u001b[1;32m   3711\u001b[0m formatter \u001b[39m=\u001b[39m DataFrameFormatter(\n\u001b[1;32m   3712\u001b[0m     frame\u001b[39m=\u001b[39mdf,\n\u001b[1;32m   3713\u001b[0m     header\u001b[39m=\u001b[39mheader,\n\u001b[0;32m   (...)\u001b[0m\n\u001b[1;32m   3717\u001b[0m     decimal\u001b[39m=\u001b[39mdecimal,\n\u001b[1;32m   3718\u001b[0m )\n\u001b[0;32m-> 3720\u001b[0m \u001b[39mreturn\u001b[39;00m DataFrameRenderer(formatter)\u001b[39m.\u001b[39;49mto_csv(\n\u001b[1;32m   3721\u001b[0m     path_or_buf,\n\u001b[1;32m   3722\u001b[0m     lineterminator\u001b[39m=\u001b[39;49mlineterminator,\n\u001b[1;32m   3723\u001b[0m     sep\u001b[39m=\u001b[39;49msep,\n\u001b[1;32m   3724\u001b[0m     encoding\u001b[39m=\u001b[39;49mencoding,\n\u001b[1;32m   3725\u001b[0m     errors\u001b[39m=\u001b[39;49merrors,\n\u001b[1;32m   3726\u001b[0m     compression\u001b[39m=\u001b[39;49mcompression,\n\u001b[1;32m   3727\u001b[0m     quoting\u001b[39m=\u001b[39;49mquoting,\n\u001b[1;32m   3728\u001b[0m     columns\u001b[39m=\u001b[39;49mcolumns,\n\u001b[1;32m   3729\u001b[0m     index_label\u001b[39m=\u001b[39;49mindex_label,\n\u001b[1;32m   3730\u001b[0m     mode\u001b[39m=\u001b[39;49mmode,\n\u001b[1;32m   3731\u001b[0m     chunksize\u001b[39m=\u001b[39;49mchunksize,\n\u001b[1;32m   3732\u001b[0m     quotechar\u001b[39m=\u001b[39;49mquotechar,\n\u001b[1;32m   3733\u001b[0m     date_format\u001b[39m=\u001b[39;49mdate_format,\n\u001b[1;32m   3734\u001b[0m     doublequote\u001b[39m=\u001b[39;49mdoublequote,\n\u001b[1;32m   3735\u001b[0m     escapechar\u001b[39m=\u001b[39;49mescapechar,\n\u001b[1;32m   3736\u001b[0m     storage_options\u001b[39m=\u001b[39;49mstorage_options,\n\u001b[1;32m   3737\u001b[0m )\n",
      "File \u001b[0;32m~/py_venv/basic/lib/python3.8/site-packages/pandas/util/_decorators.py:211\u001b[0m, in \u001b[0;36mdeprecate_kwarg.<locals>._deprecate_kwarg.<locals>.wrapper\u001b[0;34m(*args, **kwargs)\u001b[0m\n\u001b[1;32m    209\u001b[0m     \u001b[39melse\u001b[39;00m:\n\u001b[1;32m    210\u001b[0m         kwargs[new_arg_name] \u001b[39m=\u001b[39m new_arg_value\n\u001b[0;32m--> 211\u001b[0m \u001b[39mreturn\u001b[39;00m func(\u001b[39m*\u001b[39;49margs, \u001b[39m*\u001b[39;49m\u001b[39m*\u001b[39;49mkwargs)\n",
      "File \u001b[0;32m~/py_venv/basic/lib/python3.8/site-packages/pandas/io/formats/format.py:1189\u001b[0m, in \u001b[0;36mDataFrameRenderer.to_csv\u001b[0;34m(self, path_or_buf, encoding, sep, columns, index_label, mode, compression, quoting, quotechar, lineterminator, chunksize, date_format, doublequote, escapechar, errors, storage_options)\u001b[0m\n\u001b[1;32m   1168\u001b[0m     created_buffer \u001b[39m=\u001b[39m \u001b[39mFalse\u001b[39;00m\n\u001b[1;32m   1170\u001b[0m csv_formatter \u001b[39m=\u001b[39m CSVFormatter(\n\u001b[1;32m   1171\u001b[0m     path_or_buf\u001b[39m=\u001b[39mpath_or_buf,\n\u001b[1;32m   1172\u001b[0m     lineterminator\u001b[39m=\u001b[39mlineterminator,\n\u001b[0;32m   (...)\u001b[0m\n\u001b[1;32m   1187\u001b[0m     formatter\u001b[39m=\u001b[39m\u001b[39mself\u001b[39m\u001b[39m.\u001b[39mfmt,\n\u001b[1;32m   1188\u001b[0m )\n\u001b[0;32m-> 1189\u001b[0m csv_formatter\u001b[39m.\u001b[39;49msave()\n\u001b[1;32m   1191\u001b[0m \u001b[39mif\u001b[39;00m created_buffer:\n\u001b[1;32m   1192\u001b[0m     \u001b[39massert\u001b[39;00m \u001b[39misinstance\u001b[39m(path_or_buf, StringIO)\n",
      "File \u001b[0;32m~/py_venv/basic/lib/python3.8/site-packages/pandas/io/formats/csvs.py:241\u001b[0m, in \u001b[0;36mCSVFormatter.save\u001b[0;34m(self)\u001b[0m\n\u001b[1;32m    237\u001b[0m \u001b[39m\u001b[39m\u001b[39m\"\"\"\u001b[39;00m\n\u001b[1;32m    238\u001b[0m \u001b[39mCreate the writer & save.\u001b[39;00m\n\u001b[1;32m    239\u001b[0m \u001b[39m\"\"\"\u001b[39;00m\n\u001b[1;32m    240\u001b[0m \u001b[39m# apply compression and byte/text conversion\u001b[39;00m\n\u001b[0;32m--> 241\u001b[0m \u001b[39mwith\u001b[39;00m get_handle(\n\u001b[1;32m    242\u001b[0m     \u001b[39mself\u001b[39;49m\u001b[39m.\u001b[39;49mfilepath_or_buffer,\n\u001b[1;32m    243\u001b[0m     \u001b[39mself\u001b[39;49m\u001b[39m.\u001b[39;49mmode,\n\u001b[1;32m    244\u001b[0m     encoding\u001b[39m=\u001b[39;49m\u001b[39mself\u001b[39;49m\u001b[39m.\u001b[39;49mencoding,\n\u001b[1;32m    245\u001b[0m     errors\u001b[39m=\u001b[39;49m\u001b[39mself\u001b[39;49m\u001b[39m.\u001b[39;49merrors,\n\u001b[1;32m    246\u001b[0m     compression\u001b[39m=\u001b[39;49m\u001b[39mself\u001b[39;49m\u001b[39m.\u001b[39;49mcompression,\n\u001b[1;32m    247\u001b[0m     storage_options\u001b[39m=\u001b[39;49m\u001b[39mself\u001b[39;49m\u001b[39m.\u001b[39;49mstorage_options,\n\u001b[1;32m    248\u001b[0m ) \u001b[39mas\u001b[39;00m handles:\n\u001b[1;32m    249\u001b[0m \n\u001b[1;32m    250\u001b[0m     \u001b[39m# Note: self.encoding is irrelevant here\u001b[39;00m\n\u001b[1;32m    251\u001b[0m     \u001b[39mself\u001b[39m\u001b[39m.\u001b[39mwriter \u001b[39m=\u001b[39m csvlib\u001b[39m.\u001b[39mwriter(\n\u001b[1;32m    252\u001b[0m         handles\u001b[39m.\u001b[39mhandle,\n\u001b[1;32m    253\u001b[0m         lineterminator\u001b[39m=\u001b[39m\u001b[39mself\u001b[39m\u001b[39m.\u001b[39mlineterminator,\n\u001b[0;32m   (...)\u001b[0m\n\u001b[1;32m    258\u001b[0m         quotechar\u001b[39m=\u001b[39m\u001b[39mself\u001b[39m\u001b[39m.\u001b[39mquotechar,\n\u001b[1;32m    259\u001b[0m     )\n\u001b[1;32m    261\u001b[0m     \u001b[39mself\u001b[39m\u001b[39m.\u001b[39m_save()\n",
      "File \u001b[0;32m~/py_venv/basic/lib/python3.8/site-packages/pandas/io/common.py:734\u001b[0m, in \u001b[0;36mget_handle\u001b[0;34m(path_or_buf, mode, encoding, compression, memory_map, is_text, errors, storage_options)\u001b[0m\n\u001b[1;32m    732\u001b[0m \u001b[39m# Only for write methods\u001b[39;00m\n\u001b[1;32m    733\u001b[0m \u001b[39mif\u001b[39;00m \u001b[39m\"\u001b[39m\u001b[39mr\u001b[39m\u001b[39m\"\u001b[39m \u001b[39mnot\u001b[39;00m \u001b[39min\u001b[39;00m mode \u001b[39mand\u001b[39;00m is_path:\n\u001b[0;32m--> 734\u001b[0m     check_parent_directory(\u001b[39mstr\u001b[39;49m(handle))\n\u001b[1;32m    736\u001b[0m \u001b[39mif\u001b[39;00m compression:\n\u001b[1;32m    737\u001b[0m     \u001b[39mif\u001b[39;00m compression \u001b[39m!=\u001b[39m \u001b[39m\"\u001b[39m\u001b[39mzstd\u001b[39m\u001b[39m\"\u001b[39m:\n\u001b[1;32m    738\u001b[0m         \u001b[39m# compression libraries do not like an explicit text-mode\u001b[39;00m\n",
      "File \u001b[0;32m~/py_venv/basic/lib/python3.8/site-packages/pandas/io/common.py:597\u001b[0m, in \u001b[0;36mcheck_parent_directory\u001b[0;34m(path)\u001b[0m\n\u001b[1;32m    595\u001b[0m parent \u001b[39m=\u001b[39m Path(path)\u001b[39m.\u001b[39mparent\n\u001b[1;32m    596\u001b[0m \u001b[39mif\u001b[39;00m \u001b[39mnot\u001b[39;00m parent\u001b[39m.\u001b[39mis_dir():\n\u001b[0;32m--> 597\u001b[0m     \u001b[39mraise\u001b[39;00m \u001b[39mOSError\u001b[39;00m(\u001b[39mrf\u001b[39m\u001b[39m\"\u001b[39m\u001b[39mCannot save file into a non-existent directory: \u001b[39m\u001b[39m'\u001b[39m\u001b[39m{\u001b[39;00mparent\u001b[39m}\u001b[39;00m\u001b[39m'\u001b[39m\u001b[39m\"\u001b[39m)\n",
      "\u001b[0;31mOSError\u001b[0m: Cannot save file into a non-existent directory: '/home/vboxuser/Documents/030223/data_stream/Biel/Bienne'"
     ]
    }
   ],
   "source": [
    "fetch_weather_data(2860,cities)"
   ]
  },
  {
   "cell_type": "code",
   "execution_count": 152,
   "metadata": {},
   "outputs": [
    {
     "data": {
      "text/html": [
       "<div>\n",
       "<style scoped>\n",
       "    .dataframe tbody tr th:only-of-type {\n",
       "        vertical-align: middle;\n",
       "    }\n",
       "\n",
       "    .dataframe tbody tr th {\n",
       "        vertical-align: top;\n",
       "    }\n",
       "\n",
       "    .dataframe thead th {\n",
       "        text-align: right;\n",
       "    }\n",
       "</style>\n",
       "<table border=\"1\" class=\"dataframe\">\n",
       "  <thead>\n",
       "    <tr style=\"text-align: right;\">\n",
       "      <th></th>\n",
       "      <th>zone</th>\n",
       "      <th>city</th>\n",
       "    </tr>\n",
       "  </thead>\n",
       "  <tbody>\n",
       "    <tr>\n",
       "      <th>2850</th>\n",
       "      <td>Zurich</td>\n",
       "      <td>Dübendorf</td>\n",
       "    </tr>\n",
       "    <tr>\n",
       "      <th>2851</th>\n",
       "      <td>Zurich</td>\n",
       "      <td>Dietikon</td>\n",
       "    </tr>\n",
       "    <tr>\n",
       "      <th>2852</th>\n",
       "      <td>Zurich</td>\n",
       "      <td>Zürich (Kreis 4)</td>\n",
       "    </tr>\n",
       "    <tr>\n",
       "      <th>2853</th>\n",
       "      <td>Zurich</td>\n",
       "      <td>Adliswil</td>\n",
       "    </tr>\n",
       "    <tr>\n",
       "      <th>2854</th>\n",
       "      <td>Zurich</td>\n",
       "      <td>Zürich (Kreis 11) / Affoltern</td>\n",
       "    </tr>\n",
       "    <tr>\n",
       "      <th>2855</th>\n",
       "      <td>Zurich</td>\n",
       "      <td>Zürich (Kreis 2) / Wollishofen</td>\n",
       "    </tr>\n",
       "    <tr>\n",
       "      <th>2856</th>\n",
       "      <td>Zurich</td>\n",
       "      <td>Zürich (Kreis 3) / Sihlfeld</td>\n",
       "    </tr>\n",
       "    <tr>\n",
       "      <th>2857</th>\n",
       "      <td>Zurich</td>\n",
       "      <td>Zürich (Kreis 6) / Unterstrass</td>\n",
       "    </tr>\n",
       "    <tr>\n",
       "      <th>2858</th>\n",
       "      <td>Zurich</td>\n",
       "      <td>Zürich (Kreis 9) / Albisrieden</td>\n",
       "    </tr>\n",
       "    <tr>\n",
       "      <th>2859</th>\n",
       "      <td>Zurich</td>\n",
       "      <td>Zürich (Kreis 9) / Altstetten</td>\n",
       "    </tr>\n",
       "    <tr>\n",
       "      <th>2860</th>\n",
       "      <td>Zug</td>\n",
       "      <td>Zug</td>\n",
       "    </tr>\n",
       "    <tr>\n",
       "      <th>2861</th>\n",
       "      <td>Zug</td>\n",
       "      <td>Baar</td>\n",
       "    </tr>\n",
       "    <tr>\n",
       "      <th>2862</th>\n",
       "      <td>Vaud</td>\n",
       "      <td>Yverdon-les-Bains</td>\n",
       "    </tr>\n",
       "    <tr>\n",
       "      <th>2863</th>\n",
       "      <td>Vaud</td>\n",
       "      <td>Vevey</td>\n",
       "    </tr>\n",
       "    <tr>\n",
       "      <th>2864</th>\n",
       "      <td>Vaud</td>\n",
       "      <td>Renens</td>\n",
       "    </tr>\n",
       "    <tr>\n",
       "      <th>2865</th>\n",
       "      <td>Vaud</td>\n",
       "      <td>Pully</td>\n",
       "    </tr>\n",
       "    <tr>\n",
       "      <th>2866</th>\n",
       "      <td>Vaud</td>\n",
       "      <td>Nyon</td>\n",
       "    </tr>\n",
       "    <tr>\n",
       "      <th>2867</th>\n",
       "      <td>Vaud</td>\n",
       "      <td>Montreux</td>\n",
       "    </tr>\n",
       "    <tr>\n",
       "      <th>2868</th>\n",
       "      <td>Vaud</td>\n",
       "      <td>Le Châtelard</td>\n",
       "    </tr>\n",
       "    <tr>\n",
       "      <th>2869</th>\n",
       "      <td>Vaud</td>\n",
       "      <td>Lausanne</td>\n",
       "    </tr>\n",
       "  </tbody>\n",
       "</table>\n",
       "</div>"
      ],
      "text/plain": [
       "        zone                            city\n",
       "2850  Zurich                       Dübendorf\n",
       "2851  Zurich                        Dietikon\n",
       "2852  Zurich                Zürich (Kreis 4)\n",
       "2853  Zurich                        Adliswil\n",
       "2854  Zurich   Zürich (Kreis 11) / Affoltern\n",
       "2855  Zurich  Zürich (Kreis 2) / Wollishofen\n",
       "2856  Zurich     Zürich (Kreis 3) / Sihlfeld\n",
       "2857  Zurich  Zürich (Kreis 6) / Unterstrass\n",
       "2858  Zurich  Zürich (Kreis 9) / Albisrieden\n",
       "2859  Zurich   Zürich (Kreis 9) / Altstetten\n",
       "2860     Zug                             Zug\n",
       "2861     Zug                            Baar\n",
       "2862    Vaud               Yverdon-les-Bains\n",
       "2863    Vaud                           Vevey\n",
       "2864    Vaud                          Renens\n",
       "2865    Vaud                           Pully\n",
       "2866    Vaud                            Nyon\n",
       "2867    Vaud                        Montreux\n",
       "2868    Vaud                    Le Châtelard\n",
       "2869    Vaud                        Lausanne"
      ]
     },
     "execution_count": 152,
     "metadata": {},
     "output_type": "execute_result"
    }
   ],
   "source": [
    "all_cities_df.iloc[2850:].head(20)"
   ]
  },
  {
   "cell_type": "code",
   "execution_count": 154,
   "metadata": {},
   "outputs": [
    {
     "data": {
      "text/html": [
       "<div>\n",
       "<style scoped>\n",
       "    .dataframe tbody tr th:only-of-type {\n",
       "        vertical-align: middle;\n",
       "    }\n",
       "\n",
       "    .dataframe tbody tr th {\n",
       "        vertical-align: top;\n",
       "    }\n",
       "\n",
       "    .dataframe thead th {\n",
       "        text-align: right;\n",
       "    }\n",
       "</style>\n",
       "<table border=\"1\" class=\"dataframe\">\n",
       "  <thead>\n",
       "    <tr style=\"text-align: right;\">\n",
       "      <th></th>\n",
       "      <th>zone</th>\n",
       "      <th>city</th>\n",
       "    </tr>\n",
       "  </thead>\n",
       "  <tbody>\n",
       "  </tbody>\n",
       "</table>\n",
       "</div>"
      ],
      "text/plain": [
       "Empty DataFrame\n",
       "Columns: [zone, city]\n",
       "Index: []"
      ]
     },
     "execution_count": 154,
     "metadata": {},
     "output_type": "execute_result"
    }
   ],
   "source": [
    "all_cities_df[all_cities_df['city']=='Zürich (Kreis 11) / Affoltern']"
   ]
  },
  {
   "cell_type": "code",
   "execution_count": 153,
   "metadata": {},
   "outputs": [],
   "source": [
    "all_cities_df.drop(range(2854,2860),inplace=True)\n",
    "all_cities_df.reset_index(inplace=True,drop=True)\n",
    "cities = list(all_cities_df['city'])"
   ]
  },
  {
   "cell_type": "code",
   "execution_count": 160,
   "metadata": {},
   "outputs": [],
   "source": [
    "all_cities_df.to_csv('./zone_city_api.csv',index=False)"
   ]
  }
 ],
 "metadata": {
  "kernelspec": {
   "display_name": "basic",
   "language": "python",
   "name": "python3"
  },
  "language_info": {
   "codemirror_mode": {
    "name": "ipython",
    "version": 3
   },
   "file_extension": ".py",
   "mimetype": "text/x-python",
   "name": "python",
   "nbconvert_exporter": "python",
   "pygments_lexer": "ipython3",
   "version": "3.8.10"
  },
  "orig_nbformat": 4,
  "vscode": {
   "interpreter": {
    "hash": "097d8a26a366c24a24f63807c98b5da628d1a34b448405d5828048a774a0ab54"
   }
  }
 },
 "nbformat": 4,
 "nbformat_minor": 2
}
